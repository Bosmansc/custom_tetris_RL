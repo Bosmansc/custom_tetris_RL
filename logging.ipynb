{
 "cells": [
  {
   "cell_type": "markdown",
   "id": "a9611c53-3bb9-4f38-b355-a262bf7be31d",
   "metadata": {},
   "source": [
    "# Logging"
   ]
  },
  {
   "cell_type": "code",
   "execution_count": 1,
   "id": "e9e76ab7-0993-47b7-b036-f8a0a08e5193",
   "metadata": {},
   "outputs": [],
   "source": [
    "import pandas as pd"
   ]
  },
  {
   "cell_type": "code",
   "execution_count": 2,
   "id": "a8fecb63-34d6-4ca0-bb3e-cc09a13c2467",
   "metadata": {},
   "outputs": [],
   "source": [
    "import json\n",
    "\n",
    "with open('dqn_log.json') as json_file:\n",
    "    data = json.load(json_file)"
   ]
  },
  {
   "cell_type": "code",
   "execution_count": 3,
   "id": "c1a4f12c-061c-4a5e-a2dd-1d65c8981c53",
   "metadata": {},
   "outputs": [
    {
     "data": {
      "text/plain": [
       "dict_keys(['loss', 'mae', 'mse', 'mean_q', 'mean_eps', 'episode_reward', 'nb_episode_steps', 'nb_steps', 'episode', 'duration'])"
      ]
     },
     "execution_count": 3,
     "metadata": {},
     "output_type": "execute_result"
    }
   ],
   "source": [
    "data.keys()"
   ]
  },
  {
   "cell_type": "code",
   "execution_count": 4,
   "id": "d0bdf28a-bdcc-431a-bf19-e3ea37f2670a",
   "metadata": {},
   "outputs": [
    {
     "data": {
      "text/html": [
       "<div>\n",
       "<style scoped>\n",
       "    .dataframe tbody tr th:only-of-type {\n",
       "        vertical-align: middle;\n",
       "    }\n",
       "\n",
       "    .dataframe tbody tr th {\n",
       "        vertical-align: top;\n",
       "    }\n",
       "\n",
       "    .dataframe thead th {\n",
       "        text-align: right;\n",
       "    }\n",
       "</style>\n",
       "<table border=\"1\" class=\"dataframe\">\n",
       "  <thead>\n",
       "    <tr style=\"text-align: right;\">\n",
       "      <th></th>\n",
       "      <th>loss</th>\n",
       "      <th>mae</th>\n",
       "      <th>mse</th>\n",
       "      <th>mean_q</th>\n",
       "      <th>mean_eps</th>\n",
       "      <th>episode_reward</th>\n",
       "      <th>nb_episode_steps</th>\n",
       "      <th>nb_steps</th>\n",
       "      <th>episode</th>\n",
       "      <th>duration</th>\n",
       "    </tr>\n",
       "  </thead>\n",
       "  <tbody>\n",
       "    <tr>\n",
       "      <th>0</th>\n",
       "      <td>NaN</td>\n",
       "      <td>NaN</td>\n",
       "      <td>NaN</td>\n",
       "      <td>NaN</td>\n",
       "      <td>NaN</td>\n",
       "      <td>-2.6</td>\n",
       "      <td>13</td>\n",
       "      <td>13</td>\n",
       "      <td>0</td>\n",
       "      <td>0.339836</td>\n",
       "    </tr>\n",
       "    <tr>\n",
       "      <th>1</th>\n",
       "      <td>NaN</td>\n",
       "      <td>NaN</td>\n",
       "      <td>NaN</td>\n",
       "      <td>NaN</td>\n",
       "      <td>NaN</td>\n",
       "      <td>-5.8</td>\n",
       "      <td>29</td>\n",
       "      <td>42</td>\n",
       "      <td>1</td>\n",
       "      <td>0.167805</td>\n",
       "    </tr>\n",
       "    <tr>\n",
       "      <th>2</th>\n",
       "      <td>NaN</td>\n",
       "      <td>NaN</td>\n",
       "      <td>NaN</td>\n",
       "      <td>NaN</td>\n",
       "      <td>NaN</td>\n",
       "      <td>105.2</td>\n",
       "      <td>74</td>\n",
       "      <td>116</td>\n",
       "      <td>2</td>\n",
       "      <td>0.404185</td>\n",
       "    </tr>\n",
       "    <tr>\n",
       "      <th>3</th>\n",
       "      <td>NaN</td>\n",
       "      <td>NaN</td>\n",
       "      <td>NaN</td>\n",
       "      <td>NaN</td>\n",
       "      <td>NaN</td>\n",
       "      <td>-11.0</td>\n",
       "      <td>55</td>\n",
       "      <td>171</td>\n",
       "      <td>3</td>\n",
       "      <td>0.297166</td>\n",
       "    </tr>\n",
       "    <tr>\n",
       "      <th>4</th>\n",
       "      <td>NaN</td>\n",
       "      <td>NaN</td>\n",
       "      <td>NaN</td>\n",
       "      <td>NaN</td>\n",
       "      <td>NaN</td>\n",
       "      <td>-16.4</td>\n",
       "      <td>82</td>\n",
       "      <td>253</td>\n",
       "      <td>4</td>\n",
       "      <td>0.433427</td>\n",
       "    </tr>\n",
       "    <tr>\n",
       "      <th>...</th>\n",
       "      <td>...</td>\n",
       "      <td>...</td>\n",
       "      <td>...</td>\n",
       "      <td>...</td>\n",
       "      <td>...</td>\n",
       "      <td>...</td>\n",
       "      <td>...</td>\n",
       "      <td>...</td>\n",
       "      <td>...</td>\n",
       "      <td>...</td>\n",
       "    </tr>\n",
       "    <tr>\n",
       "      <th>296</th>\n",
       "      <td>104168.830178</td>\n",
       "      <td>20.742579</td>\n",
       "      <td>38771.328509</td>\n",
       "      <td>32.565568</td>\n",
       "      <td>0.893156</td>\n",
       "      <td>-14.8</td>\n",
       "      <td>74</td>\n",
       "      <td>13393</td>\n",
       "      <td>296</td>\n",
       "      <td>2.726244</td>\n",
       "    </tr>\n",
       "    <tr>\n",
       "      <th>297</th>\n",
       "      <td>177295.611781</td>\n",
       "      <td>20.686299</td>\n",
       "      <td>62032.647359</td>\n",
       "      <td>30.213615</td>\n",
       "      <td>0.892720</td>\n",
       "      <td>-7.0</td>\n",
       "      <td>35</td>\n",
       "      <td>13428</td>\n",
       "      <td>297</td>\n",
       "      <td>1.309369</td>\n",
       "    </tr>\n",
       "    <tr>\n",
       "      <th>298</th>\n",
       "      <td>87637.202981</td>\n",
       "      <td>17.955769</td>\n",
       "      <td>32735.444775</td>\n",
       "      <td>26.780996</td>\n",
       "      <td>0.892364</td>\n",
       "      <td>-10.8</td>\n",
       "      <td>54</td>\n",
       "      <td>13482</td>\n",
       "      <td>298</td>\n",
       "      <td>1.372339</td>\n",
       "    </tr>\n",
       "    <tr>\n",
       "      <th>299</th>\n",
       "      <td>199210.275571</td>\n",
       "      <td>20.204598</td>\n",
       "      <td>72736.159234</td>\n",
       "      <td>28.766260</td>\n",
       "      <td>0.892060</td>\n",
       "      <td>-4.4</td>\n",
       "      <td>22</td>\n",
       "      <td>13504</td>\n",
       "      <td>299</td>\n",
       "      <td>0.491543</td>\n",
       "    </tr>\n",
       "    <tr>\n",
       "      <th>300</th>\n",
       "      <td>253559.943445</td>\n",
       "      <td>21.717974</td>\n",
       "      <td>91456.877196</td>\n",
       "      <td>30.412837</td>\n",
       "      <td>0.891748</td>\n",
       "      <td>-11.2</td>\n",
       "      <td>56</td>\n",
       "      <td>13560</td>\n",
       "      <td>300</td>\n",
       "      <td>1.247132</td>\n",
       "    </tr>\n",
       "  </tbody>\n",
       "</table>\n",
       "<p>301 rows × 10 columns</p>\n",
       "</div>"
      ],
      "text/plain": [
       "              loss        mae           mse     mean_q  mean_eps  \\\n",
       "0              NaN        NaN           NaN        NaN       NaN   \n",
       "1              NaN        NaN           NaN        NaN       NaN   \n",
       "2              NaN        NaN           NaN        NaN       NaN   \n",
       "3              NaN        NaN           NaN        NaN       NaN   \n",
       "4              NaN        NaN           NaN        NaN       NaN   \n",
       "..             ...        ...           ...        ...       ...   \n",
       "296  104168.830178  20.742579  38771.328509  32.565568  0.893156   \n",
       "297  177295.611781  20.686299  62032.647359  30.213615  0.892720   \n",
       "298   87637.202981  17.955769  32735.444775  26.780996  0.892364   \n",
       "299  199210.275571  20.204598  72736.159234  28.766260  0.892060   \n",
       "300  253559.943445  21.717974  91456.877196  30.412837  0.891748   \n",
       "\n",
       "     episode_reward  nb_episode_steps  nb_steps  episode  duration  \n",
       "0              -2.6                13        13        0  0.339836  \n",
       "1              -5.8                29        42        1  0.167805  \n",
       "2             105.2                74       116        2  0.404185  \n",
       "3             -11.0                55       171        3  0.297166  \n",
       "4             -16.4                82       253        4  0.433427  \n",
       "..              ...               ...       ...      ...       ...  \n",
       "296           -14.8                74     13393      296  2.726244  \n",
       "297            -7.0                35     13428      297  1.309369  \n",
       "298           -10.8                54     13482      298  1.372339  \n",
       "299            -4.4                22     13504      299  0.491543  \n",
       "300           -11.2                56     13560      300  1.247132  \n",
       "\n",
       "[301 rows x 10 columns]"
      ]
     },
     "execution_count": 4,
     "metadata": {},
     "output_type": "execute_result"
    }
   ],
   "source": [
    "df_log = pd.DataFrame.from_dict(data)\n",
    "df_log"
   ]
  },
  {
   "cell_type": "code",
   "execution_count": 5,
   "id": "2b27b14a-9c2d-45b0-bfaf-361c95b113b3",
   "metadata": {},
   "outputs": [
    {
     "data": {
      "text/plain": [
       "'0502_160947'"
      ]
     },
     "execution_count": 5,
     "metadata": {},
     "output_type": "execute_result"
    }
   ],
   "source": [
    "import time\n",
    "timestr = time.strftime(\"%m%d_%H%M%S\")\n",
    "timestr"
   ]
  },
  {
   "cell_type": "code",
   "execution_count": 6,
   "id": "c37fc752-5296-4f93-ac45-726e00f66677",
   "metadata": {},
   "outputs": [
    {
     "ename": "NameError",
     "evalue": "name 'pyplot' is not defined",
     "output_type": "error",
     "traceback": [
      "\u001b[0;31m---------------------------------------------------------------------------\u001b[0m",
      "\u001b[0;31mNameError\u001b[0m                                 Traceback (most recent call last)",
      "\u001b[0;32m<ipython-input-6-f6b397e105d5>\u001b[0m in \u001b[0;36m<module>\u001b[0;34m\u001b[0m\n\u001b[0;32m----> 1\u001b[0;31m \u001b[0mf\u001b[0m \u001b[0;34m=\u001b[0m \u001b[0mpyplot\u001b[0m\u001b[0;34m.\u001b[0m\u001b[0mfigure\u001b[0m\u001b[0;34m(\u001b[0m\u001b[0mfigsize\u001b[0m\u001b[0;34m=\u001b[0m\u001b[0;34m(\u001b[0m\u001b[0;36m10\u001b[0m\u001b[0;34m,\u001b[0m\u001b[0;36m10\u001b[0m\u001b[0;34m)\u001b[0m\u001b[0;34m)\u001b[0m\u001b[0;34m\u001b[0m\u001b[0;34m\u001b[0m\u001b[0m\n\u001b[0m\u001b[1;32m      2\u001b[0m \u001b[0;34m\u001b[0m\u001b[0m\n\u001b[1;32m      3\u001b[0m \u001b[0;32mfor\u001b[0m \u001b[0midx\u001b[0m\u001b[0;34m,\u001b[0m \u001b[0mcol\u001b[0m \u001b[0;32min\u001b[0m \u001b[0menumerate\u001b[0m\u001b[0;34m(\u001b[0m\u001b[0mdf_log\u001b[0m\u001b[0;34m.\u001b[0m\u001b[0mcolumns\u001b[0m\u001b[0;34m)\u001b[0m\u001b[0;34m:\u001b[0m\u001b[0;34m\u001b[0m\u001b[0;34m\u001b[0m\u001b[0m\n\u001b[1;32m      4\u001b[0m     \u001b[0mplot_logging\u001b[0m\u001b[0;34m(\u001b[0m\u001b[0mdf_log\u001b[0m\u001b[0;34m,\u001b[0m \u001b[0mcol\u001b[0m\u001b[0;34m,\u001b[0m \u001b[0midx\u001b[0m\u001b[0;34m)\u001b[0m\u001b[0;34m\u001b[0m\u001b[0;34m\u001b[0m\u001b[0m\n\u001b[1;32m      5\u001b[0m \u001b[0;34m\u001b[0m\u001b[0m\n",
      "\u001b[0;31mNameError\u001b[0m: name 'pyplot' is not defined"
     ]
    }
   ],
   "source": [
    "f = pyplot.figure(figsize=(10,10))\n",
    "\n",
    "for idx, col in enumerate(df_log.columns):\n",
    "    plot_logging(df_log, col, idx)\n",
    "\n",
    "# show the plots\n",
    "pyplot.show()"
   ]
  },
  {
   "cell_type": "code",
   "execution_count": 7,
   "id": "af881859-b077-4ff7-aabc-4bc00a2cb722",
   "metadata": {},
   "outputs": [],
   "source": [
    "def plot_logging(df, key, index):\n",
    "    pyplot.subplot(3,3,index+1)\n",
    "    pyplot.subplots_adjust(hspace=0.5)\n",
    "    \n",
    "    y = df[key]\n",
    "    x = df['episode']\n",
    "\n",
    "    # plotting the points\n",
    "    pyplot.plot(x, y)\n",
    "\n",
    "    # naming the x axis\n",
    "    pyplot.xlabel('episode nr')\n",
    "    # naming the y axis\n",
    "    pyplot.ylabel(key.replace('_', ' '))\n",
    "\n",
    "    # title\n",
    "    pyplot.title(key.replace('_', ' '))"
   ]
  },
  {
   "cell_type": "code",
   "execution_count": 11,
   "id": "8234e09e-e30b-4351-8a78-f57889108a70",
   "metadata": {},
   "outputs": [
    {
     "data": {
      "image/png": "[encoded data removed]",
      "text/plain": [
       "<Figure size 1600x400 with 1 Axes>"
      ]
     },
     "metadata": {
      "needs_background": "light"
     },
     "output_type": "display_data"
    }
   ],
   "source": [
    "from matplotlib import pyplot\n",
    "\n",
    "# init plot\n",
    "figure = pyplot.figure(figsize=(20, 5), dpi=80)\n",
    "\n",
    "\n",
    "## reward per episode\n",
    "pyplot.subplot(131)\n",
    "y = df_log['episode_reward']\n",
    "x = df_log['episode']\n",
    "\n",
    "# plotting the points\n",
    "pyplot.plot(x, y)\n",
    "\n",
    "# naming the x axis\n",
    "pyplot.xlabel('episode nr')\n",
    "# naming the y axis\n",
    "pyplot.ylabel('episode reward')\n",
    "\n",
    "# title\n",
    "pyplot.title('reward per episode')\n",
    "\n",
    "# save the plot\n",
    "timestr = time.strftime(\"%m%d_%H%M%S\")\n",
    "pyplot.savefig(\"logs/test\" + timestr)\n",
    "\n",
    "# show the plots\n",
    "pyplot.show()\n"
   ]
  },
  {
   "cell_type": "code",
   "execution_count": null,
   "id": "ce0b96e0-6a90-4028-8b43-c195d3f0c0fc",
   "metadata": {},
   "outputs": [],
   "source": [
    "\n",
    "\n",
    "y_1 = history.history[episode_key]\n",
    "y_2 = history.history['episode_reward']\n",
    "ind = np.arange(len(y_1))\n",
    "\n",
    "# bars\n",
    "width = 0.35       # the width of the bars\n",
    "pyplot.bar(ind, y_1, width, color='g', label='nb_episode_steps')\n",
    "pyplot.ylabel('nr steps per episode')\n",
    "pyplot.xlabel('episode')\n",
    "\n",
    "# line\n",
    "axes2 = pyplot.twinx()\n",
    "axes2.plot(ind, y_2, color='k', label='episode_reward')\n",
    "axes2.set_ylabel('episode reward')\n",
    "\n",
    "# title\n",
    "pyplot.title(mode + ': episode reward and steps per episode')\n",
    "\n",
    "# PLOT NR OF LINES CLEARED PER EPISODE\n",
    "pyplot.subplot(133)\n",
    "x = df_results['nr_episode']\n",
    "y = df_results['nr_lines_sum']\n",
    "\n",
    "# plotting the points\n",
    "pyplot.plot(x, y)\n",
    "\n",
    "# naming the x axis\n",
    "pyplot.xlabel('episodes')\n",
    "# naming the y axis\n",
    "pyplot.ylabel('nr_of_lines')\n",
    "\n",
    "# title\n",
    "pyplot.title(mode + ': number of lines per episode')\n",
    "\n",
    "# show the plots\n",
    "pyplot.show()\n",
    "pyplot.close()"
   ]
  },
  {
   "cell_type": "code",
   "execution_count": null,
   "id": "bf0f119c-22c5-4465-9d5b-c8716316a4ba",
   "metadata": {},
   "outputs": [],
   "source": []
  }
 ],
 "metadata": {
  "kernelspec": {
   "display_name": "openai",
   "language": "python",
   "name": "openai"
  },
  "language_info": {
   "codemirror_mode": {
    "name": "ipython",
    "version": 3
   },
   "file_extension": ".py",
   "mimetype": "text/x-python",
   "name": "python",
   "nbconvert_exporter": "python",
   "pygments_lexer": "ipython3",
   "version": "3.8.9"
  }
 },
 "nbformat": 4,
 "nbformat_minor": 5
}
