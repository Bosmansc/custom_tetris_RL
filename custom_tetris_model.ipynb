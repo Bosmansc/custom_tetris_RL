{
 "cells": [
  {
   "cell_type": "markdown",
   "id": "d06032cb-34fc-46cd-9aff-16b356819830",
   "metadata": {},
   "source": [
    "# Deep Q learning"
   ]
  },
  {
   "cell_type": "code",
   "execution_count": 1,
   "id": "69eaa057-8a89-4866-8e0b-585caa5c623b",
   "metadata": {},
   "outputs": [],
   "source": [
    "import random\n",
    "from time import sleep \n",
    "from engine import TetrisEngine"
   ]
  },
  {
   "cell_type": "code",
   "execution_count": 2,
   "id": "1e71f87d-a223-48f2-99c4-ea9b45baf57b",
   "metadata": {},
   "outputs": [],
   "source": [
    "import tensorflow as tf\n",
    "import numpy as np\n",
    "from tensorflow.keras.datasets import mnist\n",
    "from tensorflow.keras.models import Sequential\n",
    "from tensorflow.keras.layers import Dense, Dropout, Flatten, Conv2D, BatchNormalization, Activation, MaxPooling2D\n",
    "from tensorflow.keras.optimizers import Adam\n",
    "from tensorflow.keras.constraints import max_norm\n",
    "from tensorflow.keras.callbacks import EarlyStopping, ModelCheckpoint\n",
    "from tensorflow.keras.models import load_model"
   ]
  },
  {
   "cell_type": "code",
   "execution_count": 3,
   "id": "3cc63822-93bb-4b99-86af-139e8621394b",
   "metadata": {},
   "outputs": [],
   "source": [
    "## use pip install --upgrade --force-reinstall  git+https://github.com/Bosmansc/tetris_openai.git\n",
    "## not pip install  pip install keras-rl2, this is not compatible with tetris environment\n",
    "\n",
    "from rl.agents import DQNAgent\n",
    "from rl.policy import BoltzmannQPolicy\n",
    "from rl.policy import GreedyQPolicy\n",
    "from rl.memory import SequentialMemory"
   ]
  },
  {
   "cell_type": "code",
   "execution_count": 4,
   "id": "e910c95d-4218-4e5e-9de6-5e30818a95b0",
   "metadata": {},
   "outputs": [],
   "source": [
    "env = TetrisEngine()"
   ]
  },
  {
   "cell_type": "code",
   "execution_count": 9,
   "id": "86caae8b-b01d-44db-ab01-68e1db2d23f7",
   "metadata": {},
   "outputs": [],
   "source": [
    "def build_model_conv(actions):\n",
    "    \n",
    "    ## edit state based on code Seyedomid\n",
    "    #resize(state)\n",
    "    \n",
    "    # Network defined by the Deepmind paper\n",
    "    model = tf.keras.models.Sequential()\n",
    "    \n",
    "    model.add(Conv2D(32, (3, 3), padding='same', kernel_initializer='he_uniform', \n",
    "                     kernel_constraint=max_norm(4), input_shape=(1, 8, 6)))\n",
    "    model.add(BatchNormalization())\n",
    "    model.add(Activation('relu'))\n",
    "    \n",
    "    model.add(Conv2D(64, (3, 3), padding='same', kernel_initializer='he_uniform'))\n",
    "    model.add(BatchNormalization())\n",
    "    model.add(Activation('relu'))\n",
    "    \n",
    "    model.add(Conv2D(64, (3, 3), padding='same', kernel_initializer='he_uniform'))\n",
    "    model.add(BatchNormalization())\n",
    "    model.add(Activation('relu'))\n",
    "    \n",
    "    #model.add(MaxPooling2D(pool_size=(2,2)))\n",
    "    \n",
    "    \n",
    "    # end of convolutional layers, start of 'hidden' dense layers \n",
    "    model.add(Flatten())\n",
    "    model.add(Dense(128, kernel_initializer='he_uniform', kernel_constraint=max_norm(3)))\n",
    "    model.add(BatchNormalization())\n",
    "    model.add(Activation('relu'))\n",
    "    model.add(Dropout(0.5))\n",
    "    \n",
    "    # Final dense layer\n",
    "    model.add(Dense(actions, activation='linear'))\n",
    "    \n",
    "    return model"
   ]
  },
  {
   "cell_type": "code",
   "execution_count": 10,
   "id": "6c1f68c2-3eac-4cf2-8e5c-d80102b68aa2",
   "metadata": {},
   "outputs": [
    {
     "name": "stdout",
     "output_type": "stream",
     "text": [
      "Model: \"sequential_1\"\n",
      "_________________________________________________________________\n",
      "Layer (type)                 Output Shape              Param #   \n",
      "=================================================================\n",
      "conv2d_3 (Conv2D)            (None, 1, 8, 32)          1760      \n",
      "_________________________________________________________________\n",
      "batch_normalization_4 (Batch (None, 1, 8, 32)          128       \n",
      "_________________________________________________________________\n",
      "activation_4 (Activation)    (None, 1, 8, 32)          0         \n",
      "_________________________________________________________________\n",
      "conv2d_4 (Conv2D)            (None, 1, 8, 64)          18496     \n",
      "_________________________________________________________________\n",
      "batch_normalization_5 (Batch (None, 1, 8, 64)          256       \n",
      "_________________________________________________________________\n",
      "activation_5 (Activation)    (None, 1, 8, 64)          0         \n",
      "_________________________________________________________________\n",
      "conv2d_5 (Conv2D)            (None, 1, 8, 64)          36928     \n",
      "_________________________________________________________________\n",
      "batch_normalization_6 (Batch (None, 1, 8, 64)          256       \n",
      "_________________________________________________________________\n",
      "activation_6 (Activation)    (None, 1, 8, 64)          0         \n",
      "_________________________________________________________________\n",
      "flatten_1 (Flatten)          (None, 512)               0         \n",
      "_________________________________________________________________\n",
      "dense_2 (Dense)              (None, 128)               65664     \n",
      "_________________________________________________________________\n",
      "batch_normalization_7 (Batch (None, 128)               512       \n",
      "_________________________________________________________________\n",
      "activation_7 (Activation)    (None, 128)               0         \n",
      "_________________________________________________________________\n",
      "dropout_1 (Dropout)          (None, 128)               0         \n",
      "_________________________________________________________________\n",
      "dense_3 (Dense)              (None, 6)                 774       \n",
      "=================================================================\n",
      "Total params: 124,774\n",
      "Trainable params: 124,198\n",
      "Non-trainable params: 576\n",
      "_________________________________________________________________\n"
     ]
    }
   ],
   "source": [
    "actions = 6\n",
    "model = build_model_conv(actions)\n",
    "model.summary()"
   ]
  },
  {
   "cell_type": "code",
   "execution_count": 11,
   "id": "dad55979-a166-4bae-b06c-f61acc1dc973",
   "metadata": {},
   "outputs": [],
   "source": [
    "def build_agent(model, actions):\n",
    "    # policy = GreedyQPolicy() ## hyperparm, GreedyQPolicy is used in paper: https://www.elen.ucl.ac.be/Proceedings/esann/esannpdf/es2008-118.pdf\n",
    "    policy = BoltzmannQPolicy()\n",
    "    memory = SequentialMemory(limit=50000, window_length=1)\n",
    "    dqn = DQNAgent(model=model, memory=memory, policy=policy, \n",
    "                  nb_actions=actions, nb_steps_warmup=1000, target_model_update=1e-2)\n",
    "    return dqn"
   ]
  },
  {
   "cell_type": "code",
   "execution_count": 12,
   "id": "bc6714c1-9331-4e7b-80bb-5f9b845b5477",
   "metadata": {},
   "outputs": [
    {
     "name": "stdout",
     "output_type": "stream",
     "text": [
      "Training for 10000 steps ...\n",
      "Interval 1 (0 steps performed)\n"
     ]
    },
    {
     "name": "stderr",
     "output_type": "stream",
     "text": [
      "/home/cbosmans/Documents/Projects/openai/openai/lib/python3.8/site-packages/tensorflow/python/keras/engine/training.py:2325: UserWarning: `Model.state_updates` will be removed in a future version. This property should not be used in TensorFlow 2.0, as `updates` are applied automatically.\n",
      "  warnings.warn('`Model.state_updates` will be removed in a future version. '\n"
     ]
    },
    {
     "name": "stdout",
     "output_type": "stream",
     "text": [
      "10000/10000 [==============================] - 169s 17ms/step - reward: 0.7313\n",
      "done, took 169.113 seconds\n"
     ]
    },
    {
     "data": {
      "text/plain": [
       "<tensorflow.python.keras.callbacks.History at 0x7f50c039ba30>"
      ]
     },
     "execution_count": 12,
     "metadata": {},
     "output_type": "execute_result"
    }
   ],
   "source": [
    "dqn = build_agent(model, actions)\n",
    "dqn.compile(Adam(lr=1e-3), metrics=['mae'])\n",
    "dqn.fit(env, nb_steps=10000, visualize=True)"
   ]
  },
  {
   "cell_type": "code",
   "execution_count": 16,
   "id": "9765d388-d342-486d-996d-e1954ab60754",
   "metadata": {},
   "outputs": [
    {
     "name": "stdout",
     "output_type": "stream",
     "text": [
      "Testing for 100 episodes ...\n",
      "Episode 1: reward: 71.600, steps: 50\n",
      "Episode 2: reward: 71.600, steps: 50\n",
      "Episode 3: reward: 71.600, steps: 50\n",
      "Episode 4: reward: 71.600, steps: 50\n",
      "Episode 5: reward: 71.600, steps: 50\n",
      "Episode 6: reward: 71.600, steps: 50\n",
      "Episode 7: reward: 71.600, steps: 50\n",
      "Episode 8: reward: 71.600, steps: 50\n",
      "Episode 9: reward: 71.600, steps: 50\n",
      "Episode 10: reward: 71.600, steps: 50\n",
      "Episode 11: reward: 71.600, steps: 50\n",
      "Episode 12: reward: 71.600, steps: 50\n",
      "Episode 13: reward: 71.600, steps: 50\n",
      "Episode 14: reward: 71.600, steps: 50\n",
      "Episode 15: reward: 71.600, steps: 50\n",
      "Episode 16: reward: 71.600, steps: 50\n",
      "Episode 17: reward: 71.600, steps: 50\n",
      "Episode 18: reward: 71.600, steps: 50\n",
      "Episode 19: reward: 71.600, steps: 50\n",
      "Episode 20: reward: 71.600, steps: 50\n",
      "Episode 21: reward: 71.600, steps: 50\n",
      "Episode 22: reward: 71.600, steps: 50\n",
      "Episode 23: reward: 71.600, steps: 50\n",
      "Episode 24: reward: 71.600, steps: 50\n",
      "Episode 25: reward: 71.600, steps: 50\n",
      "Episode 26: reward: 71.600, steps: 50\n",
      "Episode 27: reward: 71.600, steps: 50\n",
      "Episode 28: reward: 71.600, steps: 50\n",
      "Episode 29: reward: 71.600, steps: 50\n",
      "Episode 30: reward: 71.600, steps: 50\n",
      "Episode 31: reward: 71.600, steps: 50\n",
      "Episode 32: reward: 71.600, steps: 50\n",
      "Episode 33: reward: 71.600, steps: 50\n",
      "Episode 34: reward: 71.600, steps: 50\n",
      "Episode 35: reward: 71.600, steps: 50\n",
      "Episode 36: reward: 71.600, steps: 50\n",
      "Episode 37: reward: 71.600, steps: 50\n",
      "Episode 38: reward: 71.600, steps: 50\n",
      "Episode 39: reward: 71.600, steps: 50\n",
      "Episode 40: reward: 71.600, steps: 50\n",
      "Episode 41: reward: 71.600, steps: 50\n",
      "Episode 42: reward: 71.600, steps: 50\n",
      "Episode 43: reward: 71.600, steps: 50\n",
      "Episode 44: reward: 71.600, steps: 50\n",
      "Episode 45: reward: 71.600, steps: 50\n",
      "Episode 46: reward: 71.600, steps: 50\n",
      "Episode 47: reward: 71.600, steps: 50\n",
      "Episode 48: reward: 71.600, steps: 50\n",
      "Episode 49: reward: 71.600, steps: 50\n",
      "Episode 50: reward: 71.600, steps: 50\n",
      "Episode 51: reward: 71.600, steps: 50\n",
      "Episode 52: reward: 71.600, steps: 50\n",
      "Episode 53: reward: 71.600, steps: 50\n",
      "Episode 54: reward: 71.600, steps: 50\n",
      "Episode 55: reward: 71.600, steps: 50\n",
      "Episode 56: reward: 71.600, steps: 50\n",
      "Episode 57: reward: 71.600, steps: 50\n",
      "Episode 58: reward: 71.600, steps: 50\n",
      "Episode 59: reward: 71.600, steps: 50\n",
      "Episode 60: reward: 71.600, steps: 50\n",
      "Episode 61: reward: 71.600, steps: 50\n",
      "Episode 62: reward: 71.600, steps: 50\n",
      "Episode 63: reward: 71.600, steps: 50\n",
      "Episode 64: reward: 71.600, steps: 50\n",
      "Episode 65: reward: 71.600, steps: 50\n",
      "Episode 66: reward: 71.600, steps: 50\n",
      "Episode 67: reward: 71.600, steps: 50\n",
      "Episode 68: reward: 71.600, steps: 50\n",
      "Episode 69: reward: 71.600, steps: 50\n",
      "Episode 70: reward: 71.600, steps: 50\n",
      "Episode 71: reward: 71.600, steps: 50\n",
      "Episode 72: reward: 71.600, steps: 50\n",
      "Episode 73: reward: 71.600, steps: 50\n",
      "Episode 74: reward: 71.600, steps: 50\n",
      "Episode 75: reward: 71.600, steps: 50\n",
      "Episode 76: reward: 71.600, steps: 50\n",
      "Episode 77: reward: 71.600, steps: 50\n",
      "Episode 78: reward: 71.600, steps: 50\n",
      "Episode 79: reward: 71.600, steps: 50\n",
      "Episode 80: reward: 71.600, steps: 50\n",
      "Episode 81: reward: 71.600, steps: 50\n",
      "Episode 82: reward: 71.600, steps: 50\n",
      "Episode 83: reward: 71.600, steps: 50\n",
      "Episode 84: reward: 71.600, steps: 50\n",
      "Episode 85: reward: 71.600, steps: 50\n",
      "Episode 86: reward: 71.600, steps: 50\n",
      "Episode 87: reward: 71.600, steps: 50\n",
      "Episode 88: reward: 71.600, steps: 50\n",
      "Episode 89: reward: 71.600, steps: 50\n",
      "Episode 90: reward: 71.600, steps: 50\n",
      "Episode 91: reward: 71.600, steps: 50\n",
      "Episode 92: reward: 71.600, steps: 50\n",
      "Episode 93: reward: 71.600, steps: 50\n",
      "Episode 94: reward: 71.600, steps: 50\n",
      "Episode 95: reward: 71.600, steps: 50\n",
      "Episode 96: reward: 71.600, steps: 50\n",
      "Episode 97: reward: 71.600, steps: 50\n",
      "Episode 98: reward: 71.600, steps: 50\n",
      "Episode 99: reward: 71.600, steps: 50\n",
      "Episode 100: reward: 71.600, steps: 50\n",
      "71.59999999999994\n"
     ]
    }
   ],
   "source": [
    "scores = dqn.test(env, nb_episodes=100, visualize=True, nb_max_episode_steps=50)\n",
    "print(np.mean(scores.history['episode_reward']))"
   ]
  },
  {
   "cell_type": "code",
   "execution_count": null,
   "id": "baa6c927-5833-4592-93ac-c68404e74989",
   "metadata": {},
   "outputs": [],
   "source": []
  },
  {
   "cell_type": "code",
   "execution_count": null,
   "id": "611df741-d170-4488-aa4b-79e5d438b828",
   "metadata": {},
   "outputs": [],
   "source": []
  }
 ],
 "metadata": {
  "kernelspec": {
   "display_name": "openai",
   "language": "python",
   "name": "openai"
  },
  "language_info": {
   "codemirror_mode": {
    "name": "ipython",
    "version": 3
   },
   "file_extension": ".py",
   "mimetype": "text/x-python",
   "name": "python",
   "nbconvert_exporter": "python",
   "pygments_lexer": "ipython3",
   "version": "3.8.9"
  }
 },
 "nbformat": 4,
 "nbformat_minor": 5
}
