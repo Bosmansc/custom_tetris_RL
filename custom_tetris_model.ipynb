{
 "cells": [
  {
   "cell_type": "markdown",
   "id": "d06032cb-34fc-46cd-9aff-16b356819830",
   "metadata": {},
   "source": [
    "# Deep Q learning"
   ]
  },
  {
   "cell_type": "code",
   "execution_count": 1,
   "id": "f202ffa0-1ba1-4526-a617-4c5e4fa5e707",
   "metadata": {},
   "outputs": [],
   "source": [
    "# maybe useful:\n",
    "# https://towardsdatascience.com/reinforcement-learning-with-tensorflow-agents-tutorial-4ac7fa858728"
   ]
  },
  {
   "cell_type": "code",
   "execution_count": 2,
   "id": "69eaa057-8a89-4866-8e0b-585caa5c623b",
   "metadata": {},
   "outputs": [],
   "source": [
    "import random\n",
    "from time import sleep \n",
    "from engine import TetrisEngine"
   ]
  },
  {
   "cell_type": "code",
   "execution_count": 3,
   "id": "1e71f87d-a223-48f2-99c4-ea9b45baf57b",
   "metadata": {},
   "outputs": [],
   "source": [
    "import tensorflow as tf\n",
    "import numpy as np\n",
    "from tensorflow.keras.datasets import mnist\n",
    "from tensorflow.keras.models import Sequential\n",
    "from tensorflow.keras.layers import Dense, Dropout, Flatten, Conv2D, BatchNormalization, Activation, MaxPooling2D\n",
    "from tensorflow.keras.optimizers import Adam\n",
    "from tensorflow.keras.constraints import max_norm\n",
    "from tensorflow.keras.callbacks import EarlyStopping, ModelCheckpoint\n",
    "from tensorflow.keras.models import load_model"
   ]
  },
  {
   "cell_type": "code",
   "execution_count": 4,
   "id": "3cc63822-93bb-4b99-86af-139e8621394b",
   "metadata": {},
   "outputs": [],
   "source": [
    "## use pip install --upgrade --force-reinstall  git+https://github.com/Bosmansc/tetris_openai.git\n",
    "## not pip install  pip install keras-rl2, this is not compatible with the custom tetris environment\n",
    "\n",
    "from rl.agents import DQNAgent\n",
    "from rl.policy import BoltzmannQPolicy\n",
    "from rl.policy import GreedyQPolicy\n",
    "from rl.memory import SequentialMemory"
   ]
  },
  {
   "cell_type": "code",
   "execution_count": 5,
   "id": "e910c95d-4218-4e5e-9de6-5e30818a95b0",
   "metadata": {},
   "outputs": [],
   "source": [
    "env = TetrisEngine()"
   ]
  },
  {
   "cell_type": "code",
   "execution_count": 6,
   "id": "86caae8b-b01d-44db-ab01-68e1db2d23f7",
   "metadata": {},
   "outputs": [],
   "source": [
    "def build_model_conv(actions):\n",
    "    \n",
    "    ## edit state based on code Seyedomid\n",
    "    #resize(state)\n",
    "    \n",
    "    # Network defined by the Deepmind paper\n",
    "    model = tf.keras.models.Sequential()\n",
    "    \n",
    "    model.add(Conv2D(32, (3, 3), padding='same', kernel_initializer='he_uniform', \n",
    "                     kernel_constraint=max_norm(4), input_shape=(1, 16, 6)))\n",
    "    model.add(BatchNormalization())\n",
    "    model.add(Activation('relu'))\n",
    "    \n",
    "    model.add(Conv2D(64, (3, 3), padding='same', kernel_initializer='he_uniform'))\n",
    "    model.add(BatchNormalization())\n",
    "    model.add(Activation('relu'))\n",
    "    \n",
    "    model.add(Conv2D(64, (3, 3), padding='same', kernel_initializer='he_uniform'))\n",
    "    model.add(BatchNormalization())\n",
    "    model.add(Activation('relu'))\n",
    "    \n",
    "    #model.add(MaxPooling2D(pool_size=(2,2)))\n",
    "    \n",
    "    \n",
    "    # end of convolutional layers, start of 'hidden' dense layers \n",
    "    model.add(Flatten())\n",
    "    model.add(Dense(128, kernel_initializer='he_uniform', kernel_constraint=max_norm(3)))\n",
    "    model.add(BatchNormalization())\n",
    "    model.add(Activation('relu'))\n",
    "    model.add(Dropout(0.5))\n",
    "    \n",
    "    # Final dense layer\n",
    "    model.add(Dense(actions, activation='linear'))\n",
    "    \n",
    "    return model"
   ]
  },
  {
   "cell_type": "code",
   "execution_count": 7,
   "id": "6c1f68c2-3eac-4cf2-8e5c-d80102b68aa2",
   "metadata": {},
   "outputs": [
    {
     "name": "stdout",
     "output_type": "stream",
     "text": [
      "Model: \"sequential\"\n",
      "_________________________________________________________________\n",
      "Layer (type)                 Output Shape              Param #   \n",
      "=================================================================\n",
      "conv2d (Conv2D)              (None, 1, 16, 32)         1760      \n",
      "_________________________________________________________________\n",
      "batch_normalization (BatchNo (None, 1, 16, 32)         128       \n",
      "_________________________________________________________________\n",
      "activation (Activation)      (None, 1, 16, 32)         0         \n",
      "_________________________________________________________________\n",
      "conv2d_1 (Conv2D)            (None, 1, 16, 64)         18496     \n",
      "_________________________________________________________________\n",
      "batch_normalization_1 (Batch (None, 1, 16, 64)         256       \n",
      "_________________________________________________________________\n",
      "activation_1 (Activation)    (None, 1, 16, 64)         0         \n",
      "_________________________________________________________________\n",
      "conv2d_2 (Conv2D)            (None, 1, 16, 64)         36928     \n",
      "_________________________________________________________________\n",
      "batch_normalization_2 (Batch (None, 1, 16, 64)         256       \n",
      "_________________________________________________________________\n",
      "activation_2 (Activation)    (None, 1, 16, 64)         0         \n",
      "_________________________________________________________________\n",
      "flatten (Flatten)            (None, 1024)              0         \n",
      "_________________________________________________________________\n",
      "dense (Dense)                (None, 128)               131200    \n",
      "_________________________________________________________________\n",
      "batch_normalization_3 (Batch (None, 128)               512       \n",
      "_________________________________________________________________\n",
      "activation_3 (Activation)    (None, 128)               0         \n",
      "_________________________________________________________________\n",
      "dropout (Dropout)            (None, 128)               0         \n",
      "_________________________________________________________________\n",
      "dense_1 (Dense)              (None, 6)                 774       \n",
      "=================================================================\n",
      "Total params: 190,310\n",
      "Trainable params: 189,734\n",
      "Non-trainable params: 576\n",
      "_________________________________________________________________\n"
     ]
    }
   ],
   "source": [
    "actions = 6\n",
    "model = build_model_conv(actions)\n",
    "model.summary()"
   ]
  },
  {
   "cell_type": "code",
   "execution_count": 8,
   "id": "dad55979-a166-4bae-b06c-f61acc1dc973",
   "metadata": {
    "tags": []
   },
   "outputs": [],
   "source": [
    "def build_agent(model, actions):\n",
    "    # policy = GreedyQPolicy() ## hyperparm, GreedyQPolicy is used in paper: https://www.elen.ucl.ac.be/Proceedings/esann/esannpdf/es2008-118.pdf\n",
    "    policy = BoltzmannQPolicy()\n",
    "    memory = SequentialMemory(limit=50000, window_length=1)\n",
    "    dqn = DQNAgent(model=model, memory=memory, policy=policy, \n",
    "                  nb_actions=actions, nb_steps_warmup=100, target_model_update=1e-2)\n",
    "    return dqn"
   ]
  },
  {
   "cell_type": "code",
   "execution_count": 9,
   "id": "bc6714c1-9331-4e7b-80bb-5f9b845b5477",
   "metadata": {},
   "outputs": [
    {
     "name": "stdout",
     "output_type": "stream",
     "text": [
      "Training for 100 steps ...\n",
      "Interval 1 (0 steps performed)\n"
     ]
    },
    {
     "name": "stderr",
     "output_type": "stream",
     "text": [
      "/home/cbosmans/Documents/Projects/openai/openai/lib/python3.8/site-packages/tensorflow/python/keras/engine/training.py:2325: UserWarning: `Model.state_updates` will be removed in a future version. This property should not be used in TensorFlow 2.0, as `updates` are applied automatically.\n",
      "  warnings.warn('`Model.state_updates` will be removed in a future version. '\n"
     ]
    },
    {
     "name": "stdout",
     "output_type": "stream",
     "text": [
      "   98/10000 [..............................] - ETA: 1:55 - reward: 0.2163done, took 1.551 seconds\n"
     ]
    }
   ],
   "source": [
    "env.reset_environment()\n",
    "dqn = build_agent(model, actions)\n",
    "dqn.compile(Adam(lr=1e-3), metrics=['mae'])\n",
    "history_training = dqn.fit(env, nb_steps=100, visualize=True)"
   ]
  },
  {
   "cell_type": "code",
   "execution_count": 10,
   "id": "d8193e90-6ec0-4913-8768-eaadea80ea89",
   "metadata": {},
   "outputs": [
    {
     "data": {
      "text/html": [
       "<div>\n",
       "<style scoped>\n",
       "    .dataframe tbody tr th:only-of-type {\n",
       "        vertical-align: middle;\n",
       "    }\n",
       "\n",
       "    .dataframe tbody tr th {\n",
       "        vertical-align: top;\n",
       "    }\n",
       "\n",
       "    .dataframe thead th {\n",
       "        text-align: right;\n",
       "    }\n",
       "</style>\n",
       "<table border=\"1\" class=\"dataframe\">\n",
       "  <thead>\n",
       "    <tr style=\"text-align: right;\">\n",
       "      <th></th>\n",
       "      <th>nr_episode</th>\n",
       "      <th>heigt_diff_sum</th>\n",
       "      <th>new_block_sum</th>\n",
       "      <th>nr_lines_sum</th>\n",
       "      <th>score_sum</th>\n",
       "      <th>score_avg</th>\n",
       "      <th>count_steps</th>\n",
       "    </tr>\n",
       "  </thead>\n",
       "  <tbody>\n",
       "    <tr>\n",
       "      <th>1</th>\n",
       "      <td>1.0</td>\n",
       "      <td>-14.0</td>\n",
       "      <td>8.0</td>\n",
       "      <td>0.0</td>\n",
       "      <td>5.6</td>\n",
       "      <td>0.243478</td>\n",
       "      <td>23</td>\n",
       "    </tr>\n",
       "    <tr>\n",
       "      <th>2</th>\n",
       "      <td>2.0</td>\n",
       "      <td>-2.0</td>\n",
       "      <td>1.0</td>\n",
       "      <td>0.0</td>\n",
       "      <td>-3.4</td>\n",
       "      <td>-0.200000</td>\n",
       "      <td>17</td>\n",
       "    </tr>\n",
       "  </tbody>\n",
       "</table>\n",
       "</div>"
      ],
      "text/plain": [
       "   nr_episode  heigt_diff_sum  new_block_sum  nr_lines_sum  score_sum  \\\n",
       "1         1.0           -14.0            8.0           0.0        5.6   \n",
       "2         2.0            -2.0            1.0           0.0       -3.4   \n",
       "\n",
       "   score_avg  count_steps  \n",
       "1   0.243478           23  \n",
       "2  -0.200000           17  "
      ]
     },
     "execution_count": 10,
     "metadata": {},
     "output_type": "execute_result"
    }
   ],
   "source": [
    "env.results().tail(2)"
   ]
  },
  {
   "cell_type": "code",
   "execution_count": 11,
   "id": "a7676e06-0a77-49ad-a929-84a072861f2a",
   "metadata": {},
   "outputs": [
    {
     "data": {
      "image/png": "[encoded data removed]",
      "text/plain": [
       "<Figure size 800x400 with 2 Axes>"
      ]
     },
     "metadata": {
      "needs_background": "light"
     },
     "output_type": "display_data"
    }
   ],
   "source": [
    "env.plot_results(history_training)"
   ]
  },
  {
   "cell_type": "code",
   "execution_count": 12,
   "id": "9765d388-d342-486d-996d-e1954ab60754",
   "metadata": {},
   "outputs": [
    {
     "name": "stdout",
     "output_type": "stream",
     "text": [
      "Testing for 10 episodes ...\n",
      "Episode 1: reward: 5.400, steps: 24\n",
      "Episode 2: reward: 5.400, steps: 24\n",
      "Episode 3: reward: 5.400, steps: 24\n",
      "Episode 4: reward: 5.400, steps: 24\n",
      "Episode 5: reward: 5.400, steps: 24\n",
      "Episode 6: reward: 5.400, steps: 24\n",
      "Episode 7: reward: 5.400, steps: 24\n",
      "Episode 8: reward: 5.400, steps: 24\n",
      "Episode 9: reward: 5.400, steps: 24\n",
      "Episode 10: reward: 5.400, steps: 24\n",
      "5.4\n"
     ]
    }
   ],
   "source": [
    "env.reset_environment()\n",
    "history_test = dqn.test(env, nb_episodes=10, visualize=True\n",
    "                  ,nb_max_episode_steps=300\n",
    "                 )\n",
    "print(np.mean(history_test.history['episode_reward']))"
   ]
  },
  {
   "cell_type": "code",
   "execution_count": 82,
   "id": "fa247ad8-cb3b-433b-a1cb-35955339accb",
   "metadata": {},
   "outputs": [
    {
     "data": {
      "text/html": [
       "<div>\n",
       "<style scoped>\n",
       "    .dataframe tbody tr th:only-of-type {\n",
       "        vertical-align: middle;\n",
       "    }\n",
       "\n",
       "    .dataframe tbody tr th {\n",
       "        vertical-align: top;\n",
       "    }\n",
       "\n",
       "    .dataframe thead th {\n",
       "        text-align: right;\n",
       "    }\n",
       "</style>\n",
       "<table border=\"1\" class=\"dataframe\">\n",
       "  <thead>\n",
       "    <tr style=\"text-align: right;\">\n",
       "      <th></th>\n",
       "      <th>nr_episode</th>\n",
       "      <th>heigt_diff_sum</th>\n",
       "      <th>new_block_sum</th>\n",
       "      <th>nr_lines_sum</th>\n",
       "      <th>score_sum</th>\n",
       "      <th>score_avg</th>\n",
       "      <th>count_steps</th>\n",
       "    </tr>\n",
       "  </thead>\n",
       "  <tbody>\n",
       "    <tr>\n",
       "      <th>0</th>\n",
       "      <td>0.0</td>\n",
       "      <td>-20.0</td>\n",
       "      <td>1120.0</td>\n",
       "      <td>110260.0</td>\n",
       "      <td>40174.0</td>\n",
       "      <td>13.391333</td>\n",
       "      <td>3000</td>\n",
       "    </tr>\n",
       "  </tbody>\n",
       "</table>\n",
       "</div>"
      ],
      "text/plain": [
       "   nr_episode  heigt_diff_sum  new_block_sum  nr_lines_sum  score_sum  \\\n",
       "0         0.0           -20.0         1120.0      110260.0    40174.0   \n",
       "\n",
       "   score_avg  count_steps  \n",
       "0  13.391333         3000  "
      ]
     },
     "execution_count": 82,
     "metadata": {},
     "output_type": "execute_result"
    }
   ],
   "source": [
    "env.results().tail(2)"
   ]
  },
  {
   "cell_type": "code",
   "execution_count": 83,
   "id": "4930be89-8ce2-47ab-8042-92b40e461c53",
   "metadata": {},
   "outputs": [
    {
     "data": {
      "image/png": "[encoded data removed]",
      "text/plain": [
       "<Figure size 432x288 with 1 Axes>"
      ]
     },
     "metadata": {
      "needs_background": "light"
     },
     "output_type": "display_data"
    }
   ],
   "source": [
    "plot_lines(env.results())"
   ]
  },
  {
   "cell_type": "code",
   "execution_count": 84,
   "id": "18a490c7-3f7d-4243-90ca-f56331381e8d",
   "metadata": {},
   "outputs": [
    {
     "data": {
      "image/png": "[encoded data removed]",
      "text/plain": [
       "<Figure size 432x288 with 1 Axes>"
      ]
     },
     "metadata": {
      "needs_background": "light"
     },
     "output_type": "display_data"
    }
   ],
   "source": [
    "plot_history(history_test)"
   ]
  },
  {
   "cell_type": "markdown",
   "id": "21ef63b8-fa5f-4438-875d-f8bbdab07b24",
   "metadata": {},
   "source": [
    "# save and load agent"
   ]
  },
  {
   "cell_type": "code",
   "execution_count": 85,
   "id": "611df741-d170-4488-aa4b-79e5d438b828",
   "metadata": {},
   "outputs": [],
   "source": [
    "## SAVE MODEL:\n",
    "#dqn.save_weights('models/dqn_model_one_line.model', overwrite=False)"
   ]
  },
  {
   "cell_type": "code",
   "execution_count": 42,
   "id": "60b468de-8f81-406a-928b-386740b7e347",
   "metadata": {},
   "outputs": [],
   "source": [
    "dqn = build_agent(model, actions)\n",
    "dqn.compile(Adam(lr=1e-3), metrics=['mae'])\n",
    "dqn.load_weights('models/dqn_model.model')"
   ]
  },
  {
   "cell_type": "code",
   "execution_count": 52,
   "id": "a9c240a1-f175-4788-899d-2963e2b5499a",
   "metadata": {},
   "outputs": [
    {
     "name": "stdout",
     "output_type": "stream",
     "text": [
      "Testing for 5 episodes ...\n",
      "Episode 1: reward: 7724.200, steps: 500\n",
      "Episode 2: reward: 7724.200, steps: 500\n",
      "Episode 3: reward: 7724.200, steps: 500\n",
      "Episode 4: reward: 7724.200, steps: 500\n",
      "Episode 5: reward: 7724.200, steps: 500\n",
      "7724.2000000000535\n"
     ]
    }
   ],
   "source": [
    "env.reset_environment()\n",
    "\n",
    "scores = dqn.test(env, nb_episodes=5, visualize=True\n",
    "                  ,nb_max_episode_steps=500\n",
    "                 )\n",
    "print(np.mean(scores.history['episode_reward']))"
   ]
  },
  {
   "cell_type": "markdown",
   "id": "754d9a84-0345-40e2-8f2d-3d461581e967",
   "metadata": {},
   "source": [
    "# Graphs"
   ]
  },
  {
   "cell_type": "code",
   "execution_count": 53,
   "id": "fe255d36-cda4-4d3a-9e2a-49695b51350c",
   "metadata": {},
   "outputs": [],
   "source": [
    "import matplotlib.pyplot as plt\n"
   ]
  },
  {
   "cell_type": "code",
   "execution_count": 71,
   "id": "03bdb2bb-07f0-40a0-8bdf-698354ef21d0",
   "metadata": {},
   "outputs": [],
   "source": [
    "def plot_lines(df_results):\n",
    "    x = df_results['nr_episode']\n",
    "    y = df_results['nr_lines_sum']\n",
    "\n",
    "    # plotting the points \n",
    "    plt.plot(x, y)\n",
    "\n",
    "    # naming the x axis\n",
    "    plt.xlabel('episodes')\n",
    "    # naming the y axis\n",
    "    plt.ylabel('nr_of_lines')\n",
    "\n",
    "    # giving a title to my graph\n",
    "    plt.title('Number of lines per episode')\n",
    "\n",
    "    # function to show the plot\n",
    "    plt.show()"
   ]
  },
  {
   "cell_type": "code",
   "execution_count": 72,
   "id": "456fc9c1-5920-4b78-8914-f00a38f4ee13",
   "metadata": {},
   "outputs": [
    {
     "data": {
      "image/png": "[encoded data removed]",
      "text/plain": [
       "<Figure size 432x288 with 1 Axes>"
      ]
     },
     "metadata": {
      "needs_background": "light"
     },
     "output_type": "display_data"
    }
   ],
   "source": [
    "plot_lines(df_results)"
   ]
  },
  {
   "cell_type": "code",
   "execution_count": 80,
   "id": "bfbda5a0-47de-4d9d-995b-ba370fae30f2",
   "metadata": {},
   "outputs": [],
   "source": [
    "def plot_history(history):\n",
    "    x = history.history['nb_steps']\n",
    "    y = history.history['episode_reward']\n",
    "\n",
    "    # plotting the points \n",
    "    plt.plot(x, y)\n",
    "\n",
    "    # naming the x axis\n",
    "    plt.xlabel('nb of steps per episode')\n",
    "    # naming the y axis\n",
    "    plt.ylabel('episode reward')\n",
    "\n",
    "    # giving a title to my graph\n",
    "    plt.title('Episode reward')\n",
    "\n",
    "    # function to show the plot\n",
    "    plt.show()"
   ]
  },
  {
   "cell_type": "code",
   "execution_count": 70,
   "id": "9254c4a8-7d53-480f-8410-85e7c38eac91",
   "metadata": {},
   "outputs": [
    {
     "data": {
      "image/png": "[encoded data removed]",
      "text/plain": [
       "<Figure size 432x288 with 1 Axes>"
      ]
     },
     "metadata": {
      "needs_background": "light"
     },
     "output_type": "display_data"
    }
   ],
   "source": [
    "plot_history(history)"
   ]
  },
  {
   "cell_type": "code",
   "execution_count": 100,
   "id": "5fe7b421-9b3d-48d2-aa14-67977f5634a4",
   "metadata": {},
   "outputs": [],
   "source": [
    "from matplotlib import pyplot\n",
    "\n",
    "def plot_results(history):\n",
    "    \n",
    "    # input data\n",
    "    df_results = env.results()\n",
    "    history = history\n",
    "\n",
    "    # init plot\n",
    "    pyplot.figure(figsize=(10, 5), dpi=80)\n",
    "\n",
    "    # PLOT EPISODE REWARD\n",
    "    pyplot.subplot(131)\n",
    "    x = history.history['nb_steps']\n",
    "    y = history.history['episode_reward']\n",
    "\n",
    "    # plotting the points \n",
    "    pyplot.plot(x, y)\n",
    "\n",
    "    # naming the x axis\n",
    "    pyplot.xlabel('nb of steps per episode')\n",
    "\n",
    "    # naming the y axis\n",
    "    pyplot.ylabel('episode reward')\n",
    "\n",
    "    # title\n",
    "    pyplot.title('Episode reward')\n",
    "\n",
    "    # PLOT NR OF LINES\n",
    "    pyplot.subplot(133)\n",
    "    x = df_results['nr_episode']\n",
    "    y = df_results['nr_lines_sum']\n",
    "\n",
    "    # plotting the points \n",
    "    pyplot.plot(x, y)\n",
    "\n",
    "    # naming the x axis\n",
    "    pyplot.xlabel('episodes')\n",
    "    # naming the y axis\n",
    "    pyplot.ylabel('nr_of_lines')\n",
    "\n",
    "    # title\n",
    "    pyplot.title('Number of lines per episode')\n",
    "\n",
    "    # show the plots\n",
    "    pyplot.show()"
   ]
  },
  {
   "cell_type": "code",
   "execution_count": null,
   "id": "1127d57b-c9ea-4fde-a6f1-837f88f2fa34",
   "metadata": {},
   "outputs": [],
   "source": []
  }
 ],
 "metadata": {
  "kernelspec": {
   "display_name": "openai",
   "language": "python",
   "name": "openai"
  },
  "language_info": {
   "codemirror_mode": {
    "name": "ipython",
    "version": 3
   },
   "file_extension": ".py",
   "mimetype": "text/x-python",
   "name": "python",
   "nbconvert_exporter": "python",
   "pygments_lexer": "ipython3",
   "version": "3.8.9"
  }
 },
 "nbformat": 4,
 "nbformat_minor": 5
}
