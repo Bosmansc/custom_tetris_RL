{
 "cells": [
  {
   "cell_type": "markdown",
   "id": "d06032cb-34fc-46cd-9aff-16b356819830",
   "metadata": {},
   "source": [
    "# Deep Q learning"
   ]
  },
  {
   "cell_type": "code",
   "execution_count": 1,
   "id": "f202ffa0-1ba1-4526-a617-4c5e4fa5e707",
   "metadata": {},
   "outputs": [],
   "source": [
    "# maybe useful:\n",
    "# https://towardsdatascience.com/reinforcement-learning-with-tensorflow-agents-tutorial-4ac7fa858728"
   ]
  },
  {
   "cell_type": "code",
   "execution_count": 1,
   "id": "69eaa057-8a89-4866-8e0b-585caa5c623b",
   "metadata": {},
   "outputs": [],
   "source": [
    "import random\n",
    "from time import sleep \n",
    "from engine import TetrisEngine\n",
    "import datetime"
   ]
  },
  {
   "cell_type": "code",
   "execution_count": 2,
   "id": "1e71f87d-a223-48f2-99c4-ea9b45baf57b",
   "metadata": {},
   "outputs": [],
   "source": [
    "import pkg_resources\n",
    "#pkg_resources.require(\"tensorflow==2.3.2\")\n",
    "\n",
    "import tensorflow as tf\n",
    "import numpy as np\n",
    "from tensorflow.keras.datasets import mnist\n",
    "from tensorflow.keras.models import Sequential\n",
    "from tensorflow.keras.layers import Dense, Dropout, Flatten, Conv2D, BatchNormalization, Activation, MaxPooling2D\n",
    "from tensorflow.keras.optimizers import Adam\n",
    "from tensorflow.keras.constraints import max_norm\n",
    "from tensorflow.keras.callbacks import EarlyStopping, ModelCheckpoint\n",
    "from tensorflow.keras.models import load_model"
   ]
  },
  {
   "cell_type": "code",
   "execution_count": 3,
   "id": "110700e5-9dc7-4229-97b8-d4890c07b6d0",
   "metadata": {},
   "outputs": [
    {
     "name": "stdout",
     "output_type": "stream",
     "text": [
      "2.3.2\n"
     ]
    }
   ],
   "source": [
    "print(tf.__version__)"
   ]
  },
  {
   "cell_type": "code",
   "execution_count": 4,
   "id": "3cc63822-93bb-4b99-86af-139e8621394b",
   "metadata": {},
   "outputs": [],
   "source": [
    "## use pip install --upgrade --force-reinstall  git+https://github.com/Bosmansc/tetris_openai.git\n",
    "## not pip install  pip install keras-rl2, this is not compatible with the custom tetris environment\n",
    "\n",
    "from rl.agents import DQNAgent\n",
    "from rl.policy import BoltzmannQPolicy\n",
    "from rl.policy import GreedyQPolicy\n",
    "from rl.memory import SequentialMemory"
   ]
  },
  {
   "cell_type": "code",
   "execution_count": 5,
   "id": "e910c95d-4218-4e5e-9de6-5e30818a95b0",
   "metadata": {},
   "outputs": [],
   "source": [
    "env = TetrisEngine()"
   ]
  },
  {
   "cell_type": "code",
   "execution_count": 6,
   "id": "86caae8b-b01d-44db-ab01-68e1db2d23f7",
   "metadata": {},
   "outputs": [],
   "source": [
    "def build_model_conv(actions):\n",
    "    \n",
    "    # Network defined by the Deepmind paper\n",
    "    model = tf.keras.models.Sequential()\n",
    "    \n",
    "    model.add(Conv2D(32, (3, 3), padding='same', kernel_initializer='he_uniform', \n",
    "                     kernel_constraint=max_norm(4), input_shape=(1, 16, 6)))\n",
    "    model.add(BatchNormalization())\n",
    "    model.add(Activation('relu'))\n",
    "    \n",
    "    model.add(Conv2D(64, (3, 3), padding='same', kernel_initializer='he_uniform'))\n",
    "    model.add(BatchNormalization())\n",
    "    model.add(Activation('relu'))\n",
    "    \n",
    "    model.add(Conv2D(64, (3, 3), padding='same', kernel_initializer='he_uniform'))\n",
    "    model.add(BatchNormalization())\n",
    "    model.add(Activation('relu'))\n",
    "    \n",
    "    #model.add(MaxPooling2D(pool_size=(2,2)))\n",
    "    \n",
    "    \n",
    "    # end of convolutional layers, start of 'hidden' dense layers \n",
    "    model.add(Flatten())\n",
    "    model.add(Dense(128, kernel_initializer='he_uniform', kernel_constraint=max_norm(3)))\n",
    "    model.add(BatchNormalization())\n",
    "    model.add(Activation('relu'))\n",
    "    model.add(Dropout(0.5))\n",
    "    \n",
    "    # Final dense layer\n",
    "    model.add(Dense(actions, activation='linear'))\n",
    "    \n",
    "    return model"
   ]
  },
  {
   "cell_type": "code",
   "execution_count": 7,
   "id": "6c1f68c2-3eac-4cf2-8e5c-d80102b68aa2",
   "metadata": {},
   "outputs": [
    {
     "name": "stdout",
     "output_type": "stream",
     "text": [
      "Model: \"sequential\"\n",
      "_________________________________________________________________\n",
      "Layer (type)                 Output Shape              Param #   \n",
      "=================================================================\n",
      "conv2d (Conv2D)              (None, 1, 16, 32)         1760      \n",
      "_________________________________________________________________\n",
      "batch_normalization (BatchNo (None, 1, 16, 32)         128       \n",
      "_________________________________________________________________\n",
      "activation (Activation)      (None, 1, 16, 32)         0         \n",
      "_________________________________________________________________\n",
      "conv2d_1 (Conv2D)            (None, 1, 16, 64)         18496     \n",
      "_________________________________________________________________\n",
      "batch_normalization_1 (Batch (None, 1, 16, 64)         256       \n",
      "_________________________________________________________________\n",
      "activation_1 (Activation)    (None, 1, 16, 64)         0         \n",
      "_________________________________________________________________\n",
      "conv2d_2 (Conv2D)            (None, 1, 16, 64)         36928     \n",
      "_________________________________________________________________\n",
      "batch_normalization_2 (Batch (None, 1, 16, 64)         256       \n",
      "_________________________________________________________________\n",
      "activation_2 (Activation)    (None, 1, 16, 64)         0         \n",
      "_________________________________________________________________\n",
      "flatten (Flatten)            (None, 1024)              0         \n",
      "_________________________________________________________________\n",
      "dense (Dense)                (None, 128)               131200    \n",
      "_________________________________________________________________\n",
      "batch_normalization_3 (Batch (None, 128)               512       \n",
      "_________________________________________________________________\n",
      "activation_3 (Activation)    (None, 128)               0         \n",
      "_________________________________________________________________\n",
      "dropout (Dropout)            (None, 128)               0         \n",
      "_________________________________________________________________\n",
      "dense_1 (Dense)              (None, 6)                 774       \n",
      "=================================================================\n",
      "Total params: 190,310\n",
      "Trainable params: 189,734\n",
      "Non-trainable params: 576\n",
      "_________________________________________________________________\n"
     ]
    }
   ],
   "source": [
    "actions = 6\n",
    "model = build_model_conv(actions)\n",
    "model.summary()"
   ]
  },
  {
   "cell_type": "code",
   "execution_count": 8,
   "id": "dad55979-a166-4bae-b06c-f61acc1dc973",
   "metadata": {
    "tags": []
   },
   "outputs": [],
   "source": [
    "def build_agent(model, actions):\n",
    "    # policy = GreedyQPolicy() ## hyperparm, GreedyQPolicy is used in paper: https://www.elen.ucl.ac.be/Proceedings/esann/esannpdf/es2008-118.pdf\n",
    "    policy = BoltzmannQPolicy()\n",
    "    memory = SequentialMemory(limit=50000, window_length=1)\n",
    "    dqn = DQNAgent(model=model, memory=memory, policy=policy, \n",
    "                  nb_actions=actions, nb_steps_warmup=100, target_model_update=1e-2)\n",
    "    return dqn"
   ]
  },
  {
   "cell_type": "code",
   "execution_count": 10,
   "id": "bc6714c1-9331-4e7b-80bb-5f9b845b5477",
   "metadata": {},
   "outputs": [
    {
     "name": "stdout",
     "output_type": "stream",
     "text": [
      "Training for 500 steps ...\n",
      "Interval 1 (0 steps performed)\n",
      "WARNING:tensorflow:From /home/cbosmans/Documents/Projects/openai/openai/lib/python3.8/site-packages/tensorflow/python/keras/engine/training_v1.py:2070: Model.state_updates (from tensorflow.python.keras.engine.training) is deprecated and will be removed in a future version.\n",
      "Instructions for updating:\n",
      "This property should not be used in TensorFlow 2.0, as updates are applied automatically.\n",
      "  500/10000 [>.............................] - ETA: 4:18 - reward: 0.8568done, took 13.616 seconds\n"
     ]
    }
   ],
   "source": [
    "env.reset_environment()\n",
    "\n",
    "dqn = build_agent(model, actions)\n",
    "dqn.compile(Adam(lr=1e-3), metrics=['mae'])\n",
    "history_training = dqn.fit(env, nb_steps=500, visualize=True)"
   ]
  },
  {
   "cell_type": "code",
   "execution_count": 13,
   "id": "9765d388-d342-486d-996d-e1954ab60754",
   "metadata": {},
   "outputs": [
    {
     "name": "stdout",
     "output_type": "stream",
     "text": [
      "Testing for 10 episodes ...\n",
      "Episode 1: reward: -3.600, steps: 18\n",
      "Episode 2: reward: 26.200, steps: 22\n",
      "Episode 3: reward: 16.200, steps: 21\n",
      "Episode 4: reward: 6.000, steps: 21\n",
      "Episode 5: reward: -3.800, steps: 19\n",
      "Episode 6: reward: 26.200, steps: 22\n",
      "Episode 7: reward: 26.200, steps: 22\n",
      "Episode 8: reward: -2.800, steps: 14\n",
      "Episode 9: reward: -3.800, steps: 19\n",
      "Episode 10: reward: -3.600, steps: 18\n",
      "8.320000000000004\n"
     ]
    }
   ],
   "source": [
    "env.reset_environment()\n",
    "history_test = dqn.test(env, nb_episodes=10, visualize=True\n",
    "                  ,nb_max_episode_steps=300\n",
    "                 )\n",
    "print(np.mean(history_test.history['episode_reward']))"
   ]
  },
  {
   "cell_type": "code",
   "execution_count": 14,
   "id": "f19210f9-25f6-4ef9-8025-730336f99e90",
   "metadata": {},
   "outputs": [
    {
     "data": {
      "text/plain": [
       "{'episode_reward': [-3.600000000000001,\n",
       "  26.200000000000003,\n",
       "  16.200000000000006,\n",
       "  6.0,\n",
       "  -3.800000000000001,\n",
       "  26.200000000000006,\n",
       "  26.200000000000003,\n",
       "  -2.8000000000000003,\n",
       "  -3.800000000000001,\n",
       "  -3.600000000000001],\n",
       " 'nb_steps': [18, 22, 21, 21, 19, 22, 22, 14, 19, 18]}"
      ]
     },
     "execution_count": 14,
     "metadata": {},
     "output_type": "execute_result"
    }
   ],
   "source": [
    "history_test.history"
   ]
  },
  {
   "cell_type": "code",
   "execution_count": 14,
   "id": "fa247ad8-cb3b-433b-a1cb-35955339accb",
   "metadata": {},
   "outputs": [
    {
     "data": {
      "text/html": [
       "<div>\n",
       "<style scoped>\n",
       "    .dataframe tbody tr th:only-of-type {\n",
       "        vertical-align: middle;\n",
       "    }\n",
       "\n",
       "    .dataframe tbody tr th {\n",
       "        vertical-align: top;\n",
       "    }\n",
       "\n",
       "    .dataframe thead th {\n",
       "        text-align: right;\n",
       "    }\n",
       "</style>\n",
       "<table border=\"1\" class=\"dataframe\">\n",
       "  <thead>\n",
       "    <tr style=\"text-align: right;\">\n",
       "      <th></th>\n",
       "      <th>nr_episode</th>\n",
       "      <th>heigt_diff_sum</th>\n",
       "      <th>new_block_sum</th>\n",
       "      <th>nr_lines_sum</th>\n",
       "      <th>score_sum</th>\n",
       "      <th>score_avg</th>\n",
       "      <th>count_steps</th>\n",
       "    </tr>\n",
       "  </thead>\n",
       "  <tbody>\n",
       "    <tr>\n",
       "      <th>9</th>\n",
       "      <td>9.0</td>\n",
       "      <td>-14.0</td>\n",
       "      <td>4.0</td>\n",
       "      <td>0.0</td>\n",
       "      <td>-37.0</td>\n",
       "      <td>-0.2</td>\n",
       "      <td>185</td>\n",
       "    </tr>\n",
       "    <tr>\n",
       "      <th>10</th>\n",
       "      <td>10.0</td>\n",
       "      <td>0.0</td>\n",
       "      <td>0.0</td>\n",
       "      <td>0.0</td>\n",
       "      <td>-0.2</td>\n",
       "      <td>-0.2</td>\n",
       "      <td>1</td>\n",
       "    </tr>\n",
       "  </tbody>\n",
       "</table>\n",
       "</div>"
      ],
      "text/plain": [
       "    nr_episode  heigt_diff_sum  new_block_sum  nr_lines_sum  score_sum  \\\n",
       "9          9.0           -14.0            4.0           0.0      -37.0   \n",
       "10        10.0             0.0            0.0           0.0       -0.2   \n",
       "\n",
       "    score_avg  count_steps  \n",
       "9        -0.2          185  \n",
       "10       -0.2            1  "
      ]
     },
     "execution_count": 14,
     "metadata": {},
     "output_type": "execute_result"
    }
   ],
   "source": [
    "env.results().tail(2)"
   ]
  },
  {
   "cell_type": "code",
   "execution_count": 16,
   "id": "2728042c-a13b-426c-b61b-ab9e3a46e8d5",
   "metadata": {},
   "outputs": [
    {
     "data": {
      "image/png": "[encoded data removed]",
      "text/plain": [
       "<Figure size 800x400 with 2 Axes>"
      ]
     },
     "metadata": {
      "needs_background": "light"
     },
     "output_type": "display_data"
    }
   ],
   "source": [
    "env.plot_results(history_test)"
   ]
  },
  {
   "cell_type": "code",
   "execution_count": 15,
   "id": "4930be89-8ce2-47ab-8042-92b40e461c53",
   "metadata": {},
   "outputs": [
    {
     "ename": "NameError",
     "evalue": "name 'plot_lines' is not defined",
     "output_type": "error",
     "traceback": [
      "\u001b[0;31m---------------------------------------------------------------------------\u001b[0m",
      "\u001b[0;31mNameError\u001b[0m                                 Traceback (most recent call last)",
      "\u001b[0;32m<ipython-input-15-1f4b14898853>\u001b[0m in \u001b[0;36m<module>\u001b[0;34m\u001b[0m\n\u001b[0;32m----> 1\u001b[0;31m \u001b[0mplot_lines\u001b[0m\u001b[0;34m(\u001b[0m\u001b[0menv\u001b[0m\u001b[0;34m.\u001b[0m\u001b[0mresults\u001b[0m\u001b[0;34m(\u001b[0m\u001b[0;34m)\u001b[0m\u001b[0;34m)\u001b[0m\u001b[0;34m\u001b[0m\u001b[0;34m\u001b[0m\u001b[0m\n\u001b[0m",
      "\u001b[0;31mNameError\u001b[0m: name 'plot_lines' is not defined"
     ]
    }
   ],
   "source": [
    "plot_lines(env.results())"
   ]
  },
  {
   "cell_type": "code",
   "execution_count": 84,
   "id": "18a490c7-3f7d-4243-90ca-f56331381e8d",
   "metadata": {},
   "outputs": [
    {
     "data": {
      "image/png": "[encoded data removed]",
      "text/plain": [
       "<Figure size 432x288 with 1 Axes>"
      ]
     },
     "metadata": {
      "needs_background": "light"
     },
     "output_type": "display_data"
    }
   ],
   "source": [
    "plot_history(history_test)"
   ]
  },
  {
   "cell_type": "markdown",
   "id": "21ef63b8-fa5f-4438-875d-f8bbdab07b24",
   "metadata": {},
   "source": [
    "# save and load agent"
   ]
  },
  {
   "cell_type": "code",
   "execution_count": 85,
   "id": "611df741-d170-4488-aa4b-79e5d438b828",
   "metadata": {},
   "outputs": [],
   "source": [
    "## SAVE MODEL:\n",
    "#dqn.save_weights('models/dqn_model_one_line.model', overwrite=False)"
   ]
  },
  {
   "cell_type": "code",
   "execution_count": 42,
   "id": "60b468de-8f81-406a-928b-386740b7e347",
   "metadata": {},
   "outputs": [],
   "source": [
    "dqn = build_agent(model, actions)\n",
    "dqn.compile(Adam(lr=1e-3), metrics=['mae'])\n",
    "dqn.load_weights('models/dqn_model.model')"
   ]
  },
  {
   "cell_type": "code",
   "execution_count": 52,
   "id": "a9c240a1-f175-4788-899d-2963e2b5499a",
   "metadata": {},
   "outputs": [
    {
     "name": "stdout",
     "output_type": "stream",
     "text": [
      "Testing for 5 episodes ...\n",
      "Episode 1: reward: 7724.200, steps: 500\n",
      "Episode 2: reward: 7724.200, steps: 500\n",
      "Episode 3: reward: 7724.200, steps: 500\n",
      "Episode 4: reward: 7724.200, steps: 500\n",
      "Episode 5: reward: 7724.200, steps: 500\n",
      "7724.2000000000535\n"
     ]
    }
   ],
   "source": [
    "env.reset_environment()\n",
    "\n",
    "scores = dqn.test(env, nb_episodes=5, visualize=True\n",
    "                  ,nb_max_episode_steps=500\n",
    "                 )\n",
    "print(np.mean(scores.history['episode_reward']))"
   ]
  },
  {
   "cell_type": "markdown",
   "id": "754d9a84-0345-40e2-8f2d-3d461581e967",
   "metadata": {},
   "source": [
    "# Graphs"
   ]
  },
  {
   "cell_type": "code",
   "execution_count": 53,
   "id": "fe255d36-cda4-4d3a-9e2a-49695b51350c",
   "metadata": {},
   "outputs": [],
   "source": [
    "import matplotlib.pyplot as plt\n"
   ]
  },
  {
   "cell_type": "code",
   "execution_count": 71,
   "id": "03bdb2bb-07f0-40a0-8bdf-698354ef21d0",
   "metadata": {},
   "outputs": [],
   "source": [
    "def plot_lines(df_results):\n",
    "    x = df_results['nr_episode']\n",
    "    y = df_results['nr_lines_sum']\n",
    "\n",
    "    # plotting the points \n",
    "    plt.plot(x, y)\n",
    "\n",
    "    # naming the x axis\n",
    "    plt.xlabel('episodes')\n",
    "    # naming the y axis\n",
    "    plt.ylabel('nr_of_lines')\n",
    "\n",
    "    # giving a title to my graph\n",
    "    plt.title('Number of lines per episode')\n",
    "\n",
    "    # function to show the plot\n",
    "    plt.show()"
   ]
  },
  {
   "cell_type": "code",
   "execution_count": 72,
   "id": "456fc9c1-5920-4b78-8914-f00a38f4ee13",
   "metadata": {},
   "outputs": [
    {
     "data": {
      "image/png": "[encoded data removed]",
      "text/plain": [
       "<Figure size 432x288 with 1 Axes>"
      ]
     },
     "metadata": {
      "needs_background": "light"
     },
     "output_type": "display_data"
    }
   ],
   "source": [
    "plot_lines(df_results)"
   ]
  },
  {
   "cell_type": "code",
   "execution_count": 16,
   "id": "c44d1d64-1069-459b-9141-bfaac0211bad",
   "metadata": {},
   "outputs": [
    {
     "data": {
      "text/plain": [
       "{'episode_reward': [2.399999999999997,\n",
       "  22.400000000000013,\n",
       "  -2.6,\n",
       "  18.200000000000024,\n",
       "  14.00000000000001,\n",
       "  3.3999999999999977,\n",
       "  19.600000000000012,\n",
       "  40.19999999999989,\n",
       "  26.000000000000007,\n",
       "  -7.0000000000000036,\n",
       "  18.800000000000033],\n",
       " 'nb_episode_steps': [39, 41, 13, 62, 32, 34, 55, 50, 23, 35, 59],\n",
       " 'nb_steps': [39, 80, 93, 155, 187, 221, 276, 326, 349, 384, 443]}"
      ]
     },
     "execution_count": 16,
     "metadata": {},
     "output_type": "execute_result"
    }
   ],
   "source": [
    "history_training.history"
   ]
  },
  {
   "cell_type": "code",
   "execution_count": 25,
   "id": "c246a4b9-46b6-47b5-bb20-e49abf56be66",
   "metadata": {},
   "outputs": [
    {
     "data": {
      "text/plain": [
       "Text(0, 0.5, 'nr of steps per episode')"
      ]
     },
     "execution_count": 25,
     "metadata": {},
     "output_type": "execute_result"
    },
    {
     "data": {
      "image/png": "[encoded data removed]",
      "text/plain": [
       "<Figure size 432x288 with 2 Axes>"
      ]
     },
     "metadata": {
      "needs_background": "light"
     },
     "output_type": "display_data"
    }
   ],
   "source": [
    "from matplotlib import pyplot as plt\n",
    "import numpy as np\n",
    "\n",
    "y_1 = history_training.history['nb_episode_steps']\n",
    "y_2 = history_training.history['episode_reward']\n",
    "ind = np.arange(len(y_1))\n",
    "\n",
    "# bars\n",
    "width = 0.35       # the width of the bars\n",
    "plt.bar(ind, y_2, width, color='g', label='episode_reward')\n",
    "plt.ylabel('episode reward')  \n",
    "plt.xlabel('episode')\n",
    "\n",
    "# line\n",
    "axes2 = plt.twinx()\n",
    "axes2.plot(ind, y_1, color='k', label='nb_episode_steps')\n",
    "axes2.set_ylabel('nr of steps per episode')\n",
    "\n"
   ]
  },
  {
   "cell_type": "code",
   "execution_count": 28,
   "id": "bfbda5a0-47de-4d9d-995b-ba370fae30f2",
   "metadata": {},
   "outputs": [],
   "source": [
    "def plot_history(history):\n",
    "    # data\n",
    "    y_1 = history.history['nb_episode_steps']\n",
    "    y_2 = history.history['episode_reward']\n",
    "    ind = np.arange(len(y_1))\n",
    "\n",
    "    # bars\n",
    "    width = 0.35       # the width of the bars\n",
    "    plt.bar(ind, y_2, width, color='g', label='episode_reward')\n",
    "    plt.ylabel('episode reward')  \n",
    "    plt.xlabel('episode')\n",
    "\n",
    "    # line\n",
    "    axes2 = plt.twinx()\n",
    "    axes2.plot(ind, y_1, color='k', label='nb_episode_steps')\n",
    "    axes2.set_ylabel('nr of steps per episode')\n",
    "\n",
    "    # giving a title to my graph\n",
    "    plt.title('Episode reward and steps per episode')\n",
    "\n",
    "    # function to show the plot\n",
    "    plt.show()"
   ]
  },
  {
   "cell_type": "code",
   "execution_count": 29,
   "id": "9254c4a8-7d53-480f-8410-85e7c38eac91",
   "metadata": {},
   "outputs": [
    {
     "data": {
      "image/png": "[encoded data removed]",
      "text/plain": [
       "<Figure size 432x288 with 2 Axes>"
      ]
     },
     "metadata": {
      "needs_background": "light"
     },
     "output_type": "display_data"
    }
   ],
   "source": [
    "plot_history(history_training)"
   ]
  },
  {
   "cell_type": "code",
   "execution_count": 100,
   "id": "5fe7b421-9b3d-48d2-aa14-67977f5634a4",
   "metadata": {},
   "outputs": [],
   "source": [
    "from matplotlib import pyplot\n",
    "\n",
    "def plot_results(history):\n",
    "    \n",
    "    # input data\n",
    "    df_results = env.results()\n",
    "    history = history\n",
    "\n",
    "    # init plot\n",
    "    pyplot.figure(figsize=(10, 5), dpi=80)\n",
    "\n",
    "    # PLOT EPISODE REWARD\n",
    "    pyplot.subplot(131)\n",
    "    x = history.history['nb_steps']\n",
    "    y = history.history['episode_reward']\n",
    "\n",
    "    # plotting the points \n",
    "    pyplot.plot(x, y)\n",
    "\n",
    "    # naming the x axis\n",
    "    pyplot.xlabel('nb of steps per episode')\n",
    "\n",
    "    # naming the y axis\n",
    "    pyplot.ylabel('episode reward')\n",
    "\n",
    "    # title\n",
    "    pyplot.title('Episode reward')\n",
    "\n",
    "    # PLOT NR OF LINES\n",
    "    pyplot.subplot(133)\n",
    "    x = df_results['nr_episode']\n",
    "    y = df_results['nr_lines_sum']\n",
    "\n",
    "    # plotting the points \n",
    "    pyplot.plot(x, y)\n",
    "\n",
    "    # naming the x axis\n",
    "    pyplot.xlabel('episodes')\n",
    "    # naming the y axis\n",
    "    pyplot.ylabel('nr_of_lines')\n",
    "\n",
    "    # title\n",
    "    pyplot.title('Number of lines per episode')\n",
    "\n",
    "    # show the plots\n",
    "    pyplot.show()"
   ]
  },
  {
   "cell_type": "markdown",
   "id": "4ccc0961-3179-4bd2-84e8-b7bf2004260e",
   "metadata": {},
   "source": [
    "# tensorboard"
   ]
  },
  {
   "cell_type": "code",
   "execution_count": 13,
   "id": "14272c64-d73b-4ab0-a20b-36d3933464f6",
   "metadata": {},
   "outputs": [],
   "source": [
    "# Load the TensorBoard notebook extension\n",
    "%load_ext tensorboard"
   ]
  },
  {
   "cell_type": "code",
   "execution_count": 43,
   "id": "86ba8b8e-ca10-4438-bf9b-23a636b2cb94",
   "metadata": {},
   "outputs": [],
   "source": [
    "from keras.callbacks import TensorBoard\n",
    "\n",
    "class ModifiedTensorBoard(TensorBoard):\n",
    "    # Overriding init to set initial step and writer (we want one log file for all .fit() calls)\n",
    "    def __init__(self, name, **kwargs):\n",
    "        super().__init__(**kwargs)\n",
    "        self.step = 1\n",
    "        self.writer = tf.summary.create_file_writer(self.log_dir)\n",
    "        self._log_write_dir = os.path.join(self.log_dir, name)\n",
    "        print(self._log_write_dir)\n",
    "\n",
    "    # Overriding this method to stop creating default log writer\n",
    "    def set_model(self, model):\n",
    "        pass\n",
    "\n",
    "    # Overrided, saves logs with our step number\n",
    "    # (otherwise every .fit() will start writing from 0th step)\n",
    "    def on_epoch_end(self, epoch, logs=None):\n",
    "        self.update_stats(**logs)\n",
    "\n",
    "    # Overrided\n",
    "    # We train for one batch only, no need to save anything at epoch end\n",
    "    def on_batch_end(self, batch, logs=None):\n",
    "        pass\n",
    "\n",
    "    # Overrided, so won't close writer\n",
    "    def on_train_end(self, _):\n",
    "        pass\n",
    "\n",
    "    def on_train_batch_end(self, batch, logs=None):\n",
    "        pass\n",
    "\n",
    "    # Custom method for saving own metrics\n",
    "    # Creates writer, writes custom metrics and closes writer\n",
    "    def update_stats(self, **stats):\n",
    "        self._write_logs(stats, self.step)\n",
    "\n",
    "    def _write_logs(self, logs, index):\n",
    "        with self.writer.as_default():\n",
    "            for name, value in logs.items():\n",
    "                tf.summary.scalar(name, value, step=index)\n",
    "                self.step += 1\n",
    "                self.writer.flush()"
   ]
  },
  {
   "cell_type": "code",
   "execution_count": 45,
   "id": "457e32a5-a96c-4a04-a7f2-bf121bbe2e01",
   "metadata": {},
   "outputs": [
    {
     "name": "stdout",
     "output_type": "stream",
     "text": [
      "/home/cbosmans/Documents/Projects/openai/custom_tetris_environment\n"
     ]
    }
   ],
   "source": [
    "!pwd"
   ]
  },
  {
   "cell_type": "code",
   "execution_count": 51,
   "id": "cce2fc91-f173-48e3-ba16-3e931b63b327",
   "metadata": {},
   "outputs": [
    {
     "name": "stdout",
     "output_type": "stream",
     "text": [
      "/home/cbosmans/Documents/Projects/openai/custom_tetris_environment/logs/TB-1619522963/TB\n",
      "Training for 100 steps ...\n",
      "Interval 1 (0 steps performed)\n",
      "   96/10000 [..............................] - ETA: 6:01 - reward: 1.6062done, took 3.533 seconds\n"
     ]
    }
   ],
   "source": [
    "import time\n",
    "import os \n",
    "\n",
    "PATH =  '/home/cbosmans/Documents/Projects/openai/custom_tetris_environment/'\n",
    "name = 'TB'\n",
    "log_dir = \"{}logs/{}-{}\".format(PATH, name, int(time.time()))\n",
    "\n",
    "tensorboard = ModifiedTensorBoard(name, log_dir=log_dir)\n",
    "\n",
    "dqn = build_agent(model, actions)\n",
    "dqn.compile(Adam(lr=1e-3), metrics=['mae'])\n",
    "history_training = dqn.fit(env, nb_steps=100, visualize=False, callbacks=[tensorboard])\n",
    "                              "
   ]
  },
  {
   "cell_type": "code",
   "execution_count": 44,
   "id": "f15122cb-67fa-4956-8e03-2bc82dd3583c",
   "metadata": {},
   "outputs": [
    {
     "name": "stdout",
     "output_type": "stream",
     "text": [
      "logs/test/20210427-132343/TB\n",
      "Training for 100 steps ...\n",
      "Interval 1 (0 steps performed)\n",
      "   99/10000 [..............................] - ETA: 5:40 - reward: 1.2424done, took 3.410 seconds\n"
     ]
    }
   ],
   "source": [
    "env.reset_environment()\n",
    "\n",
    "# tensorboard\n",
    "#log_dir = \"logs/fit/\" + datetime.datetime.now().strftime(\"%Y%m%d-%H%M%S\")\n",
    "#tensorboard_callback = tf.keras.callbacks.TensorBoard(log_dir=log_dir, histogram_freq=1)\n",
    "\n",
    "\n",
    "log_dir = \"logs/test/\" + datetime.datetime.now().strftime(\"%Y%m%d-%H%M%S\")\n",
    "tensorboard = ModifiedTensorBoard('TB', log_dir=log_dir)\n",
    "\n",
    "dqn = build_agent(model, actions)\n",
    "dqn.compile(Adam(lr=1e-3), metrics=['mae'])\n",
    "history_training = dqn.fit(env, nb_steps=100, visualize=False, callbacks=[tensorboard])"
   ]
  },
  {
   "cell_type": "code",
   "execution_count": 40,
   "id": "4de73f49-492d-4bc2-8051-172cb12b5132",
   "metadata": {},
   "outputs": [
    {
     "data": {
      "text/plain": [
       "'logs/fit/20210427-131445/'"
      ]
     },
     "execution_count": 40,
     "metadata": {},
     "output_type": "execute_result"
    }
   ],
   "source": [
    "os.path.join(log_dir, '')"
   ]
  },
  {
   "cell_type": "code",
   "execution_count": 41,
   "id": "5afef244-36c9-451f-85d8-13b8649d6379",
   "metadata": {},
   "outputs": [
    {
     "data": {
      "text/html": [
       "\n",
       "      <iframe id=\"tensorboard-frame-16d0199e59be093\" width=\"100%\" height=\"800\" frameborder=\"0\">\n",
       "      </iframe>\n",
       "      <script>\n",
       "        (function() {\n",
       "          const frame = document.getElementById(\"tensorboard-frame-16d0199e59be093\");\n",
       "          const url = new URL(\"/\", window.location);\n",
       "          const port = 6006;\n",
       "          if (port) {\n",
       "            url.port = port;\n",
       "          }\n",
       "          frame.src = url;\n",
       "        })();\n",
       "      </script>\n",
       "    "
      ],
      "text/plain": [
       "<IPython.core.display.HTML object>"
      ]
     },
     "metadata": {},
     "output_type": "display_data"
    }
   ],
   "source": [
    "%tensorboard --logdir logs"
   ]
  },
  {
   "cell_type": "code",
   "execution_count": null,
   "id": "54831eb8-91b5-4215-9dfb-f7f41d949036",
   "metadata": {},
   "outputs": [],
   "source": []
  }
 ],
 "metadata": {
  "kernelspec": {
   "display_name": "openai",
   "language": "python",
   "name": "openai"
  },
  "language_info": {
   "codemirror_mode": {
    "name": "ipython",
    "version": 3
   },
   "file_extension": ".py",
   "mimetype": "text/x-python",
   "name": "python",
   "nbconvert_exporter": "python",
   "pygments_lexer": "ipython3",
   "version": "3.8.9"
  }
 },
 "nbformat": 4,
 "nbformat_minor": 5
}
