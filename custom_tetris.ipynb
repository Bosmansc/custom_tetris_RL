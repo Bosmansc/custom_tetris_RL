{
 "cells": [
  {
   "cell_type": "markdown",
   "id": "4f7d1ae5-56d7-436c-9644-4f6ec365fea2",
   "metadata": {},
   "source": [
    "# Custom Tetris Environment"
   ]
  },
  {
   "cell_type": "code",
   "execution_count": 1,
   "id": "005b9ff7-bd96-484f-b86a-f8a55266b994",
   "metadata": {},
   "outputs": [],
   "source": [
    "import random\n",
    "from time import sleep \n",
    "from engine import TetrisEngine\n",
    "import pandas as pd"
   ]
  },
  {
   "cell_type": "code",
   "execution_count": 2,
   "id": "45ff0c12-2844-4be8-84b1-00deb6b91c14",
   "metadata": {},
   "outputs": [],
   "source": [
    "env = TetrisEngine()"
   ]
  },
  {
   "cell_type": "code",
   "execution_count": 3,
   "id": "4532d7f3-ac73-4505-b45e-67c88010e047",
   "metadata": {},
   "outputs": [],
   "source": [
    "# Variable to indicate whether the game has ended or not\n",
    "done = False\n",
    "\n",
    "# Resets the environment\n",
    "state = env.reset()\n",
    "\n",
    "# initialse values\n",
    "total_score = 0\n",
    "deaths = 0\n",
    "nr_lines_cleared = 0\n",
    "df_info = pd.DataFrame()\n",
    "\n",
    "\n",
    "# Loop that keeps making moves as long as the game hasn't ended yet\n",
    "for i in range(110):\n",
    "    # Picks a random action\n",
    "    action = random.randint(0,5)\n",
    "\n",
    "    # Performs the action in the game engine\n",
    "    next_state, reward, done, info = env.step(action)\n",
    "    \n",
    "    # logging\n",
    "    total_score+=reward\n",
    "    df_info = df_info.append(info, ignore_index=True)\n",
    "\n",
    "    #print(done)\n",
    "    #print(round(total_score, 2))\n",
    "    \n",
    "    # Render the game state\n",
    "    env.render()\n",
    "    # Sleep to make sure a human can follow the gameplay (if you're not rendering, this isn't neccessary of course)\n",
    "    sleep(0.05)"
   ]
  },
  {
   "cell_type": "code",
   "execution_count": 4,
   "id": "0529ba40-56db-4df7-a0d8-5bbfead8183a",
   "metadata": {},
   "outputs": [
    {
     "data": {
      "text/plain": [
       "(16, 6)"
      ]
     },
     "execution_count": 4,
     "metadata": {},
     "output_type": "execute_result"
    }
   ],
   "source": [
    "state.shape"
   ]
  },
  {
   "cell_type": "code",
   "execution_count": 5,
   "id": "6e77f0aa-8402-4d6e-aa3d-7256fff5249e",
   "metadata": {},
   "outputs": [
    {
     "data": {
      "text/plain": [
       "{'score': -0.2,\n",
       " 'number_of_lines': 0,\n",
       " 'new_block': False,\n",
       " 'height_difference': 0,\n",
       " 'new_episode': False,\n",
       " 'boundries': [0, 0, 0, 2, 2, 0],\n",
       " 'num_of_holes': [0, 0, 0, 0, 0, 0]}"
      ]
     },
     "execution_count": 5,
     "metadata": {},
     "output_type": "execute_result"
    }
   ],
   "source": [
    "info"
   ]
  },
  {
   "cell_type": "code",
   "execution_count": 6,
   "id": "af3984a7-8fd4-46fb-b1d7-c9c8e46a6916",
   "metadata": {},
   "outputs": [
    {
     "data": {
      "text/html": [
       "<div>\n",
       "<style scoped>\n",
       "    .dataframe tbody tr th:only-of-type {\n",
       "        vertical-align: middle;\n",
       "    }\n",
       "\n",
       "    .dataframe tbody tr th {\n",
       "        vertical-align: top;\n",
       "    }\n",
       "\n",
       "    .dataframe thead th {\n",
       "        text-align: right;\n",
       "    }\n",
       "</style>\n",
       "<table border=\"1\" class=\"dataframe\">\n",
       "  <thead>\n",
       "    <tr style=\"text-align: right;\">\n",
       "      <th></th>\n",
       "      <th>nr_episode</th>\n",
       "      <th>heigt_diff_sum</th>\n",
       "      <th>new_block_sum</th>\n",
       "      <th>nr_lines_sum</th>\n",
       "      <th>score_sum</th>\n",
       "      <th>score_avg</th>\n",
       "      <th>count_steps</th>\n",
       "    </tr>\n",
       "  </thead>\n",
       "  <tbody>\n",
       "    <tr>\n",
       "      <th>0</th>\n",
       "      <td>0.0</td>\n",
       "      <td>-14.0</td>\n",
       "      <td>12.0</td>\n",
       "      <td>92.0</td>\n",
       "      <td>116.8</td>\n",
       "      <td>1.692754</td>\n",
       "      <td>69</td>\n",
       "    </tr>\n",
       "    <tr>\n",
       "      <th>1</th>\n",
       "      <td>1.0</td>\n",
       "      <td>-14.0</td>\n",
       "      <td>8.0</td>\n",
       "      <td>0.0</td>\n",
       "      <td>3.6</td>\n",
       "      <td>0.109091</td>\n",
       "      <td>33</td>\n",
       "    </tr>\n",
       "    <tr>\n",
       "      <th>2</th>\n",
       "      <td>2.0</td>\n",
       "      <td>-2.0</td>\n",
       "      <td>1.0</td>\n",
       "      <td>0.0</td>\n",
       "      <td>-1.6</td>\n",
       "      <td>-0.200000</td>\n",
       "      <td>8</td>\n",
       "    </tr>\n",
       "  </tbody>\n",
       "</table>\n",
       "</div>"
      ],
      "text/plain": [
       "   nr_episode  heigt_diff_sum  new_block_sum  nr_lines_sum  score_sum  \\\n",
       "0         0.0           -14.0           12.0          92.0      116.8   \n",
       "1         1.0           -14.0            8.0           0.0        3.6   \n",
       "2         2.0            -2.0            1.0           0.0       -1.6   \n",
       "\n",
       "   score_avg  count_steps  \n",
       "0   1.692754           69  \n",
       "1   0.109091           33  \n",
       "2  -0.200000            8  "
      ]
     },
     "execution_count": 6,
     "metadata": {},
     "output_type": "execute_result"
    }
   ],
   "source": [
    "env.results()"
   ]
  },
  {
   "cell_type": "code",
   "execution_count": 7,
   "id": "e7d3e9ff-8e69-4315-a97a-524958a71351",
   "metadata": {},
   "outputs": [
    {
     "name": "stdout",
     "output_type": "stream",
     "text": [
      "   new_episode_cum  heigt_diff_sum  new_block_sum  nr_lines_sum  score_sum  \\\n",
      "0              0.0           -14.0           12.0          92.0      116.8   \n",
      "1              1.0           -14.0            8.0           0.0        3.6   \n",
      "2              2.0            -2.0            1.0           0.0       -1.6   \n",
      "\n",
      "   score_avg  count_steps  \n",
      "0   1.692754           69  \n",
      "1   0.109091           33  \n",
      "2  -0.200000            8  \n"
     ]
    }
   ],
   "source": [
    "df_info[\"new_episode_cum\"] = df_info[\"new_episode\"].cumsum()\n",
    "\n",
    "df_results = df_info.groupby('new_episode_cum', as_index=False).agg(heigt_diff_sum=('height_difference','sum'), \n",
    "                                                     new_block_sum=('new_block','sum'),\n",
    "                                                     nr_lines_sum=('number_of_lines','sum'),\n",
    "                                                     score_sum=('score','sum'),\n",
    "                                                     score_avg=('score','mean'),\n",
    "                                                     count_steps=('new_episode_cum','count'))\n",
    "print (df_results)"
   ]
  },
  {
   "cell_type": "code",
   "execution_count": 8,
   "id": "f22ada0b-146c-4746-9254-f7533bf130a6",
   "metadata": {},
   "outputs": [
    {
     "data": {
      "text/html": [
       "<div>\n",
       "<style scoped>\n",
       "    .dataframe tbody tr th:only-of-type {\n",
       "        vertical-align: middle;\n",
       "    }\n",
       "\n",
       "    .dataframe tbody tr th {\n",
       "        vertical-align: top;\n",
       "    }\n",
       "\n",
       "    .dataframe thead th {\n",
       "        text-align: right;\n",
       "    }\n",
       "</style>\n",
       "<table border=\"1\" class=\"dataframe\">\n",
       "  <thead>\n",
       "    <tr style=\"text-align: right;\">\n",
       "      <th></th>\n",
       "      <th>boundries</th>\n",
       "      <th>height_difference</th>\n",
       "      <th>new_block</th>\n",
       "      <th>new_episode</th>\n",
       "      <th>num_of_holes</th>\n",
       "      <th>number_of_lines</th>\n",
       "      <th>score</th>\n",
       "      <th>new_episode_cum</th>\n",
       "    </tr>\n",
       "  </thead>\n",
       "  <tbody>\n",
       "    <tr>\n",
       "      <th>0</th>\n",
       "      <td>[0, 0, 0, 0, 0, 0]</td>\n",
       "      <td>0.0</td>\n",
       "      <td>0.0</td>\n",
       "      <td>0.0</td>\n",
       "      <td>[0, 0, 0, 0, 0, 0]</td>\n",
       "      <td>0.0</td>\n",
       "      <td>-0.2</td>\n",
       "      <td>0.0</td>\n",
       "    </tr>\n",
       "    <tr>\n",
       "      <th>1</th>\n",
       "      <td>[0, 0, 0, 0, 0, 0]</td>\n",
       "      <td>0.0</td>\n",
       "      <td>0.0</td>\n",
       "      <td>0.0</td>\n",
       "      <td>[0, 0, 0, 0, 0, 0]</td>\n",
       "      <td>0.0</td>\n",
       "      <td>-0.2</td>\n",
       "      <td>0.0</td>\n",
       "    </tr>\n",
       "    <tr>\n",
       "      <th>2</th>\n",
       "      <td>[0, 0, 0, 0, 0, 0]</td>\n",
       "      <td>0.0</td>\n",
       "      <td>0.0</td>\n",
       "      <td>0.0</td>\n",
       "      <td>[0, 0, 0, 0, 0, 0]</td>\n",
       "      <td>0.0</td>\n",
       "      <td>-0.2</td>\n",
       "      <td>0.0</td>\n",
       "    </tr>\n",
       "    <tr>\n",
       "      <th>3</th>\n",
       "      <td>[0, 0, 0, 0, 0, 0]</td>\n",
       "      <td>0.0</td>\n",
       "      <td>0.0</td>\n",
       "      <td>0.0</td>\n",
       "      <td>[0, 0, 0, 0, 0, 0]</td>\n",
       "      <td>0.0</td>\n",
       "      <td>-0.2</td>\n",
       "      <td>0.0</td>\n",
       "    </tr>\n",
       "    <tr>\n",
       "      <th>4</th>\n",
       "      <td>[0, 0, 0, 0, 0, 0]</td>\n",
       "      <td>0.0</td>\n",
       "      <td>0.0</td>\n",
       "      <td>0.0</td>\n",
       "      <td>[0, 0, 0, 0, 0, 0]</td>\n",
       "      <td>0.0</td>\n",
       "      <td>-0.2</td>\n",
       "      <td>0.0</td>\n",
       "    </tr>\n",
       "    <tr>\n",
       "      <th>...</th>\n",
       "      <td>...</td>\n",
       "      <td>...</td>\n",
       "      <td>...</td>\n",
       "      <td>...</td>\n",
       "      <td>...</td>\n",
       "      <td>...</td>\n",
       "      <td>...</td>\n",
       "      <td>...</td>\n",
       "    </tr>\n",
       "    <tr>\n",
       "      <th>105</th>\n",
       "      <td>[0, 0, 0, 2, 2, 0]</td>\n",
       "      <td>0.0</td>\n",
       "      <td>0.0</td>\n",
       "      <td>0.0</td>\n",
       "      <td>[0, 0, 0, 0, 0, 0]</td>\n",
       "      <td>0.0</td>\n",
       "      <td>-0.2</td>\n",
       "      <td>2.0</td>\n",
       "    </tr>\n",
       "    <tr>\n",
       "      <th>106</th>\n",
       "      <td>[0, 0, 0, 2, 2, 0]</td>\n",
       "      <td>0.0</td>\n",
       "      <td>0.0</td>\n",
       "      <td>0.0</td>\n",
       "      <td>[0, 0, 0, 0, 0, 0]</td>\n",
       "      <td>0.0</td>\n",
       "      <td>-0.2</td>\n",
       "      <td>2.0</td>\n",
       "    </tr>\n",
       "    <tr>\n",
       "      <th>107</th>\n",
       "      <td>[0, 0, 0, 2, 2, 0]</td>\n",
       "      <td>0.0</td>\n",
       "      <td>0.0</td>\n",
       "      <td>0.0</td>\n",
       "      <td>[0, 0, 0, 0, 0, 0]</td>\n",
       "      <td>0.0</td>\n",
       "      <td>-0.2</td>\n",
       "      <td>2.0</td>\n",
       "    </tr>\n",
       "    <tr>\n",
       "      <th>108</th>\n",
       "      <td>[0, 0, 0, 2, 2, 0]</td>\n",
       "      <td>0.0</td>\n",
       "      <td>0.0</td>\n",
       "      <td>0.0</td>\n",
       "      <td>[0, 0, 0, 0, 0, 0]</td>\n",
       "      <td>0.0</td>\n",
       "      <td>-0.2</td>\n",
       "      <td>2.0</td>\n",
       "    </tr>\n",
       "    <tr>\n",
       "      <th>109</th>\n",
       "      <td>[0, 0, 0, 2, 2, 0]</td>\n",
       "      <td>0.0</td>\n",
       "      <td>0.0</td>\n",
       "      <td>0.0</td>\n",
       "      <td>[0, 0, 0, 0, 0, 0]</td>\n",
       "      <td>0.0</td>\n",
       "      <td>-0.2</td>\n",
       "      <td>2.0</td>\n",
       "    </tr>\n",
       "  </tbody>\n",
       "</table>\n",
       "<p>110 rows × 8 columns</p>\n",
       "</div>"
      ],
      "text/plain": [
       "              boundries  height_difference  new_block  new_episode  \\\n",
       "0    [0, 0, 0, 0, 0, 0]                0.0        0.0          0.0   \n",
       "1    [0, 0, 0, 0, 0, 0]                0.0        0.0          0.0   \n",
       "2    [0, 0, 0, 0, 0, 0]                0.0        0.0          0.0   \n",
       "3    [0, 0, 0, 0, 0, 0]                0.0        0.0          0.0   \n",
       "4    [0, 0, 0, 0, 0, 0]                0.0        0.0          0.0   \n",
       "..                  ...                ...        ...          ...   \n",
       "105  [0, 0, 0, 2, 2, 0]                0.0        0.0          0.0   \n",
       "106  [0, 0, 0, 2, 2, 0]                0.0        0.0          0.0   \n",
       "107  [0, 0, 0, 2, 2, 0]                0.0        0.0          0.0   \n",
       "108  [0, 0, 0, 2, 2, 0]                0.0        0.0          0.0   \n",
       "109  [0, 0, 0, 2, 2, 0]                0.0        0.0          0.0   \n",
       "\n",
       "           num_of_holes  number_of_lines  score  new_episode_cum  \n",
       "0    [0, 0, 0, 0, 0, 0]              0.0   -0.2              0.0  \n",
       "1    [0, 0, 0, 0, 0, 0]              0.0   -0.2              0.0  \n",
       "2    [0, 0, 0, 0, 0, 0]              0.0   -0.2              0.0  \n",
       "3    [0, 0, 0, 0, 0, 0]              0.0   -0.2              0.0  \n",
       "4    [0, 0, 0, 0, 0, 0]              0.0   -0.2              0.0  \n",
       "..                  ...              ...    ...              ...  \n",
       "105  [0, 0, 0, 0, 0, 0]              0.0   -0.2              2.0  \n",
       "106  [0, 0, 0, 0, 0, 0]              0.0   -0.2              2.0  \n",
       "107  [0, 0, 0, 0, 0, 0]              0.0   -0.2              2.0  \n",
       "108  [0, 0, 0, 0, 0, 0]              0.0   -0.2              2.0  \n",
       "109  [0, 0, 0, 0, 0, 0]              0.0   -0.2              2.0  \n",
       "\n",
       "[110 rows x 8 columns]"
      ]
     },
     "execution_count": 8,
     "metadata": {},
     "output_type": "execute_result"
    }
   ],
   "source": [
    "df_info"
   ]
  },
  {
   "cell_type": "code",
   "execution_count": 9,
   "id": "0d146843-1c11-411f-9ce2-f3493cf6299b",
   "metadata": {},
   "outputs": [
    {
     "name": "stdout",
     "output_type": "stream",
     "text": [
      "{'score': -0.2, 'number_of_lines': 0, 'new_block': False, 'height_difference': 0, 'new_episode': False, 'boundries': [0, 0, 0, 2, 2, 0], 'num_of_holes': [0, 0, 0, 0, 0, 0]}\n"
     ]
    }
   ],
   "source": [
    "print(info)"
   ]
  },
  {
   "cell_type": "code",
   "execution_count": 10,
   "id": "d8518b25-123a-49be-8030-9cdbef8ff60b",
   "metadata": {},
   "outputs": [
    {
     "data": {
      "text/plain": [
       "False"
      ]
     },
     "execution_count": 10,
     "metadata": {},
     "output_type": "execute_result"
    }
   ],
   "source": [
    "done"
   ]
  },
  {
   "cell_type": "code",
   "execution_count": 11,
   "id": "f4374f80-a66e-441c-ab6f-c6c13f6e97ed",
   "metadata": {},
   "outputs": [
    {
     "data": {
      "text/plain": [
       "{'score': -0.2,\n",
       " 'number_of_lines': 0,\n",
       " 'new_block': False,\n",
       " 'height_difference': 0,\n",
       " 'new_episode': False,\n",
       " 'boundries': [0, 0, 0, 2, 2, 0],\n",
       " 'num_of_holes': [0, 0, 0, 0, 0, 0]}"
      ]
     },
     "execution_count": 11,
     "metadata": {},
     "output_type": "execute_result"
    }
   ],
   "source": [
    "info"
   ]
  },
  {
   "cell_type": "code",
   "execution_count": 12,
   "id": "5413df54-a308-4063-94a0-5e772cb9885c",
   "metadata": {},
   "outputs": [
    {
     "data": {
      "text/plain": [
       "118.79999999999976"
      ]
     },
     "execution_count": 12,
     "metadata": {},
     "output_type": "execute_result"
    }
   ],
   "source": [
    "total_score"
   ]
  },
  {
   "cell_type": "markdown",
   "id": "c11f7f2c-74f6-49b9-a174-8d9a892052ad",
   "metadata": {},
   "source": [
    "# Load and save model"
   ]
  },
  {
   "cell_type": "code",
   "execution_count": 13,
   "id": "27d8e491-fd6e-4178-9e22-4616429a6a2d",
   "metadata": {},
   "outputs": [],
   "source": [
    "from keras.models import load_model"
   ]
  },
  {
   "cell_type": "code",
   "execution_count": 14,
   "id": "a817e6e8-2990-4126-bd33-4512e8554d10",
   "metadata": {},
   "outputs": [
    {
     "ename": "OSError",
     "evalue": "SavedModel file does not exist at: models/model_1.model/{saved_model.pbtxt|saved_model.pb}",
     "output_type": "error",
     "traceback": [
      "\u001b[0;31m---------------------------------------------------------------------------\u001b[0m",
      "\u001b[0;31mOSError\u001b[0m                                   Traceback (most recent call last)",
      "\u001b[0;32m<ipython-input-14-9d26d86d048d>\u001b[0m in \u001b[0;36m<module>\u001b[0;34m\u001b[0m\n\u001b[1;32m      1\u001b[0m \u001b[0mmodel_name_\u001b[0m \u001b[0;34m=\u001b[0m \u001b[0;34m\"model_1.model\"\u001b[0m\u001b[0;34m\u001b[0m\u001b[0;34m\u001b[0m\u001b[0m\n\u001b[0;32m----> 2\u001b[0;31m \u001b[0mmodel\u001b[0m \u001b[0;34m=\u001b[0m \u001b[0mload_model\u001b[0m\u001b[0;34m(\u001b[0m\u001b[0;34mf'models/{model_name_}'\u001b[0m\u001b[0;34m)\u001b[0m\u001b[0;34m\u001b[0m\u001b[0;34m\u001b[0m\u001b[0m\n\u001b[0m",
      "\u001b[0;32m~/Documents/Projects/openai/openai/lib/python3.8/site-packages/tensorflow/python/keras/saving/save.py\u001b[0m in \u001b[0;36mload_model\u001b[0;34m(filepath, custom_objects, compile, options)\u001b[0m\n\u001b[1;32m    209\u001b[0m       \u001b[0mfilepath\u001b[0m \u001b[0;34m=\u001b[0m \u001b[0mpath_to_string\u001b[0m\u001b[0;34m(\u001b[0m\u001b[0mfilepath\u001b[0m\u001b[0;34m)\u001b[0m\u001b[0;34m\u001b[0m\u001b[0;34m\u001b[0m\u001b[0m\n\u001b[1;32m    210\u001b[0m       \u001b[0;32mif\u001b[0m \u001b[0misinstance\u001b[0m\u001b[0;34m(\u001b[0m\u001b[0mfilepath\u001b[0m\u001b[0;34m,\u001b[0m \u001b[0msix\u001b[0m\u001b[0;34m.\u001b[0m\u001b[0mstring_types\u001b[0m\u001b[0;34m)\u001b[0m\u001b[0;34m:\u001b[0m\u001b[0;34m\u001b[0m\u001b[0;34m\u001b[0m\u001b[0m\n\u001b[0;32m--> 211\u001b[0;31m         \u001b[0mloader_impl\u001b[0m\u001b[0;34m.\u001b[0m\u001b[0mparse_saved_model\u001b[0m\u001b[0;34m(\u001b[0m\u001b[0mfilepath\u001b[0m\u001b[0;34m)\u001b[0m\u001b[0;34m\u001b[0m\u001b[0;34m\u001b[0m\u001b[0m\n\u001b[0m\u001b[1;32m    212\u001b[0m         \u001b[0;32mreturn\u001b[0m \u001b[0msaved_model_load\u001b[0m\u001b[0;34m.\u001b[0m\u001b[0mload\u001b[0m\u001b[0;34m(\u001b[0m\u001b[0mfilepath\u001b[0m\u001b[0;34m,\u001b[0m \u001b[0mcompile\u001b[0m\u001b[0;34m,\u001b[0m \u001b[0moptions\u001b[0m\u001b[0;34m)\u001b[0m\u001b[0;34m\u001b[0m\u001b[0;34m\u001b[0m\u001b[0m\n\u001b[1;32m    213\u001b[0m \u001b[0;34m\u001b[0m\u001b[0m\n",
      "\u001b[0;32m~/Documents/Projects/openai/openai/lib/python3.8/site-packages/tensorflow/python/saved_model/loader_impl.py\u001b[0m in \u001b[0;36mparse_saved_model\u001b[0;34m(export_dir)\u001b[0m\n\u001b[1;32m    109\u001b[0m       \u001b[0;32mraise\u001b[0m \u001b[0mIOError\u001b[0m\u001b[0;34m(\u001b[0m\u001b[0;34m\"Cannot parse file %s: %s.\"\u001b[0m \u001b[0;34m%\u001b[0m \u001b[0;34m(\u001b[0m\u001b[0mpath_to_pbtxt\u001b[0m\u001b[0;34m,\u001b[0m \u001b[0mstr\u001b[0m\u001b[0;34m(\u001b[0m\u001b[0me\u001b[0m\u001b[0;34m)\u001b[0m\u001b[0;34m)\u001b[0m\u001b[0;34m)\u001b[0m\u001b[0;34m\u001b[0m\u001b[0;34m\u001b[0m\u001b[0m\n\u001b[1;32m    110\u001b[0m   \u001b[0;32melse\u001b[0m\u001b[0;34m:\u001b[0m\u001b[0;34m\u001b[0m\u001b[0;34m\u001b[0m\u001b[0m\n\u001b[0;32m--> 111\u001b[0;31m     raise IOError(\"SavedModel file does not exist at: %s/{%s|%s}\" %\n\u001b[0m\u001b[1;32m    112\u001b[0m                   (export_dir,\n\u001b[1;32m    113\u001b[0m                    \u001b[0mconstants\u001b[0m\u001b[0;34m.\u001b[0m\u001b[0mSAVED_MODEL_FILENAME_PBTXT\u001b[0m\u001b[0;34m,\u001b[0m\u001b[0;34m\u001b[0m\u001b[0;34m\u001b[0m\u001b[0m\n",
      "\u001b[0;31mOSError\u001b[0m: SavedModel file does not exist at: models/model_1.model/{saved_model.pbtxt|saved_model.pb}"
     ]
    }
   ],
   "source": [
    "model_name_ = \"model_1.model\"\n",
    "model = load_model(f'models/{model_name_}')"
   ]
  },
  {
   "cell_type": "code",
   "execution_count": null,
   "id": "cb8b245d-75d8-4164-8a2d-f875c790e5e1",
   "metadata": {},
   "outputs": [],
   "source": []
  },
  {
   "cell_type": "code",
   "execution_count": null,
   "id": "fe4f8637-97e2-485f-8732-8d4866c25c15",
   "metadata": {},
   "outputs": [],
   "source": []
  },
  {
   "cell_type": "markdown",
   "id": "c07aa77c-cf9f-47e1-aaaa-df2640c1ab3f",
   "metadata": {},
   "source": [
    "# Graphs"
   ]
  },
  {
   "cell_type": "code",
   "execution_count": 17,
   "id": "ff43aade-2b93-43a6-be72-1e88b44fe888",
   "metadata": {},
   "outputs": [
    {
     "data": {
      "text/html": [
       "<div>\n",
       "<style scoped>\n",
       "    .dataframe tbody tr th:only-of-type {\n",
       "        vertical-align: middle;\n",
       "    }\n",
       "\n",
       "    .dataframe tbody tr th {\n",
       "        vertical-align: top;\n",
       "    }\n",
       "\n",
       "    .dataframe thead th {\n",
       "        text-align: right;\n",
       "    }\n",
       "</style>\n",
       "<table border=\"1\" class=\"dataframe\">\n",
       "  <thead>\n",
       "    <tr style=\"text-align: right;\">\n",
       "      <th></th>\n",
       "      <th>nr_episode</th>\n",
       "      <th>heigt_diff_sum</th>\n",
       "      <th>new_block_sum</th>\n",
       "      <th>nr_lines_sum</th>\n",
       "      <th>score_sum</th>\n",
       "      <th>score_avg</th>\n",
       "      <th>count_steps</th>\n",
       "    </tr>\n",
       "  </thead>\n",
       "  <tbody>\n",
       "    <tr>\n",
       "      <th>0</th>\n",
       "      <td>0.0</td>\n",
       "      <td>-14.0</td>\n",
       "      <td>12.0</td>\n",
       "      <td>92.0</td>\n",
       "      <td>116.8</td>\n",
       "      <td>1.692754</td>\n",
       "      <td>69</td>\n",
       "    </tr>\n",
       "    <tr>\n",
       "      <th>1</th>\n",
       "      <td>1.0</td>\n",
       "      <td>-14.0</td>\n",
       "      <td>8.0</td>\n",
       "      <td>0.0</td>\n",
       "      <td>3.6</td>\n",
       "      <td>0.109091</td>\n",
       "      <td>33</td>\n",
       "    </tr>\n",
       "    <tr>\n",
       "      <th>2</th>\n",
       "      <td>2.0</td>\n",
       "      <td>-2.0</td>\n",
       "      <td>1.0</td>\n",
       "      <td>0.0</td>\n",
       "      <td>-1.6</td>\n",
       "      <td>-0.200000</td>\n",
       "      <td>8</td>\n",
       "    </tr>\n",
       "  </tbody>\n",
       "</table>\n",
       "</div>"
      ],
      "text/plain": [
       "   nr_episode  heigt_diff_sum  new_block_sum  nr_lines_sum  score_sum  \\\n",
       "0         0.0           -14.0           12.0          92.0      116.8   \n",
       "1         1.0           -14.0            8.0           0.0        3.6   \n",
       "2         2.0            -2.0            1.0           0.0       -1.6   \n",
       "\n",
       "   score_avg  count_steps  \n",
       "0   1.692754           69  \n",
       "1   0.109091           33  \n",
       "2  -0.200000            8  "
      ]
     },
     "execution_count": 17,
     "metadata": {},
     "output_type": "execute_result"
    }
   ],
   "source": [
    "df_results = env.results()\n",
    "df_results"
   ]
  },
  {
   "cell_type": "code",
   "execution_count": null,
   "id": "9f2b2f17-6221-47ea-9afd-7147a065abe0",
   "metadata": {},
   "outputs": [],
   "source": []
  }
 ],
 "metadata": {
  "kernelspec": {
   "display_name": "openai",
   "language": "python",
   "name": "openai"
  },
  "language_info": {
   "codemirror_mode": {
    "name": "ipython",
    "version": 3
   },
   "file_extension": ".py",
   "mimetype": "text/x-python",
   "name": "python",
   "nbconvert_exporter": "python",
   "pygments_lexer": "ipython3",
   "version": "3.8.9"
  }
 },
 "nbformat": 4,
 "nbformat_minor": 5
}
