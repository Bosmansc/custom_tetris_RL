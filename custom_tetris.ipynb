{
 "cells": [
  {
   "cell_type": "markdown",
   "id": "4f7d1ae5-56d7-436c-9644-4f6ec365fea2",
   "metadata": {},
   "source": [
    "# Custom Tetris Environment"
   ]
  },
  {
   "cell_type": "code",
   "execution_count": 1,
   "id": "005b9ff7-bd96-484f-b86a-f8a55266b994",
   "metadata": {},
   "outputs": [],
   "source": [
    "import random\n",
    "from time import sleep \n",
    "from engine import TetrisEngine"
   ]
  },
  {
   "cell_type": "code",
   "execution_count": 2,
   "id": "45ff0c12-2844-4be8-84b1-00deb6b91c14",
   "metadata": {},
   "outputs": [],
   "source": [
    "env = TetrisEngine()"
   ]
  },
  {
   "cell_type": "code",
   "execution_count": 3,
   "id": "4532d7f3-ac73-4505-b45e-67c88010e047",
   "metadata": {},
   "outputs": [
    {
     "ename": "KeyboardInterrupt",
     "evalue": "",
     "output_type": "error",
     "traceback": [
      "\u001b[0;31m---------------------------------------------------------------------------\u001b[0m",
      "\u001b[0;31mKeyboardInterrupt\u001b[0m                         Traceback (most recent call last)",
      "\u001b[0;32m<ipython-input-3-69a159138bff>\u001b[0m in \u001b[0;36m<module>\u001b[0;34m\u001b[0m\n\u001b[1;32m     19\u001b[0m     \u001b[0menv\u001b[0m\u001b[0;34m.\u001b[0m\u001b[0mrender\u001b[0m\u001b[0;34m(\u001b[0m\u001b[0;34m)\u001b[0m\u001b[0;34m\u001b[0m\u001b[0;34m\u001b[0m\u001b[0m\n\u001b[1;32m     20\u001b[0m     \u001b[0;31m# Sleep to make sure a human can follow the gameplay (if you're not rendering, this isn't neccessary of course)\u001b[0m\u001b[0;34m\u001b[0m\u001b[0;34m\u001b[0m\u001b[0;34m\u001b[0m\u001b[0m\n\u001b[0;32m---> 21\u001b[0;31m     \u001b[0msleep\u001b[0m\u001b[0;34m(\u001b[0m\u001b[0;36m0.05\u001b[0m\u001b[0;34m)\u001b[0m\u001b[0;34m\u001b[0m\u001b[0;34m\u001b[0m\u001b[0m\n\u001b[0m",
      "\u001b[0;31mKeyboardInterrupt\u001b[0m: "
     ]
    }
   ],
   "source": [
    "# Variable to indicate whether the game has ended or not\n",
    "done = False\n",
    "# Resets the environment\n",
    "state = env.reset()\n",
    "\n",
    "total_score = 0\n",
    "\n",
    "# Loop that keeps making moves as long as the game hasn't ended yet\n",
    "for i in range(10000):\n",
    "    # Picks a random action\n",
    "    action = random.randint(0,5)\n",
    "\n",
    "    # Performs the action in the game engine\n",
    "    next_state, reward, done, info = env.step(action)\n",
    "    total_score+=reward\n",
    "    #print(round(total_score, 2))\n",
    "    \n",
    "    # Render the game state\n",
    "    env.render()\n",
    "    # Sleep to make sure a human can follow the gameplay (if you're not rendering, this isn't neccessary of course)\n",
    "    sleep(0.05)"
   ]
  },
  {
   "cell_type": "code",
   "execution_count": null,
   "id": "f22ada0b-146c-4746-9254-f7533bf130a6",
   "metadata": {},
   "outputs": [],
   "source": [
    "next_state"
   ]
  },
  {
   "cell_type": "code",
   "execution_count": null,
   "id": "0d146843-1c11-411f-9ce2-f3493cf6299b",
   "metadata": {},
   "outputs": [],
   "source": [
    "print(info)"
   ]
  },
  {
   "cell_type": "code",
   "execution_count": null,
   "id": "d8518b25-123a-49be-8030-9cdbef8ff60b",
   "metadata": {},
   "outputs": [],
   "source": []
  }
 ],
 "metadata": {
  "kernelspec": {
   "display_name": "openai",
   "language": "python",
   "name": "openai"
  },
  "language_info": {
   "codemirror_mode": {
    "name": "ipython",
    "version": 3
   },
   "file_extension": ".py",
   "mimetype": "text/x-python",
   "name": "python",
   "nbconvert_exporter": "python",
   "pygments_lexer": "ipython3",
   "version": "3.8.9"
  }
 },
 "nbformat": 4,
 "nbformat_minor": 5
}
